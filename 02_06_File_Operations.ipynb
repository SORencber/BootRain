{
 "cells": [
  {
   "cell_type": "markdown",
   "metadata": {
    "colab_type": "text",
    "id": "J_Xnd454nwJo"
   },
   "source": [
    "# Assignments for \"File Operations\""
   ]
  },
  {
   "cell_type": "markdown",
   "metadata": {
    "colab_type": "text",
    "id": "K_FLj9UjnwJp"
   },
   "source": [
    "1. Please write a poem you wanted in a `.txt` file and save it to the disk."
   ]
  },
  {
   "cell_type": "code",
   "execution_count": 1,
   "metadata": {
    "colab": {},
    "colab_type": "code",
    "executionInfo": {
     "elapsed": 792,
     "status": "ok",
     "timestamp": 1595020793361,
     "user": {
      "displayName": "Serhat Ömer Rencber",
      "photoUrl": "",
      "userId": "18274035633187812674"
     },
     "user_tz": -120
    },
    "id": "cmPcFSiDnwJr"
   },
   "outputs": [],
   "source": [
    "def file():\n",
    "  f = open(\"demofile2.txt\", \"w\")\n",
    "  f.write(\"Eylül’de melul oldu gönül soldu da lale\\n  Laleyken emel ermedi bahçemde kemale\\nGelmez bu elem neyleyelim fazla suale\\nBir haile ömrüm ki alınmaz kaale...\")\n",
    "  f.close()\n",
    "\n",
    "file()"
   ]
  },
  {
   "cell_type": "markdown",
   "metadata": {
    "colab_type": "text",
    "id": "Ls5uN8MbnwJx"
   },
   "source": [
    "2. Append a new poem into the file you have created."
   ]
  },
  {
   "cell_type": "code",
   "execution_count": 12,
   "metadata": {
    "colab": {},
    "colab_type": "code",
    "executionInfo": {
     "elapsed": 677,
     "status": "ok",
     "timestamp": 1595020871689,
     "user": {
      "displayName": "Serhat Ömer Rencber",
      "photoUrl": "",
      "userId": "18274035633187812674"
     },
     "user_tz": -120
    },
    "id": "N6LLslvanwJy"
   },
   "outputs": [],
   "source": [
    "def file():\n",
    "  f = open(\"demofile2.txt\", \"a\")\n",
    "  f.write(\"Diger siir\")\n",
    "  f.close()\n",
    "\n",
    "file()"
   ]
  },
  {
   "cell_type": "markdown",
   "metadata": {
    "colab_type": "text",
    "id": "CXTM9yLPnwJ3"
   },
   "source": [
    "3. Read and print all poems."
   ]
  },
  {
   "cell_type": "code",
   "execution_count": 13,
   "metadata": {
    "colab": {
     "base_uri": "https://localhost:8080/",
     "height": 54
    },
    "colab_type": "code",
    "executionInfo": {
     "elapsed": 687,
     "status": "ok",
     "timestamp": 1595020875194,
     "user": {
      "displayName": "Serhat Ömer Rencber",
      "photoUrl": "",
      "userId": "18274035633187812674"
     },
     "user_tz": -120
    },
    "id": "i1sEEX-RnwJ4",
    "outputId": "a7793d15-741a-46c7-d8fe-fe288c7c7a70"
   },
   "outputs": [
    {
     "name": "stdout",
     "output_type": "stream",
     "text": [
      "['Eylül’de melul oldu gönül soldu da lale\\n', '  Laleyken emel ermedi bahçemde kemale\\n', 'Gelmez bu elem neyleyelim fazla suale\\n', 'Bir haile ömrüm ki alınmaz kaale...Eylül’de melul oldu gönül soldu da lale\\n', '  Laleyken emel ermedi bahçemde kemale\\n', 'Gelmez bu elem neyleyelim fazla suale\\n', 'Bir haile ömrüm ki alınmaz kaale...Diger siir']\n"
     ]
    }
   ],
   "source": [
    "def file():\n",
    "  f = open(\"demofile2.txt\", \"r\")\n",
    "  line=f.readlines()\n",
    "  print(line)\n",
    "  f.close()\n",
    "\n",
    "file()"
   ]
  }
 ],
 "metadata": {
  "colab": {
   "collapsed_sections": [],
   "name": "02_06_File_Operations.ipynb",
   "provenance": []
  },
  "kernelspec": {
   "display_name": "Python 3",
   "language": "python",
   "name": "python3"
  },
  "language_info": {
   "codemirror_mode": {
    "name": "ipython",
    "version": 3
   },
   "file_extension": ".py",
   "mimetype": "text/x-python",
   "name": "python",
   "nbconvert_exporter": "python",
   "pygments_lexer": "ipython3",
   "version": "3.7.1"
  }
 },
 "nbformat": 4,
 "nbformat_minor": 4
}
