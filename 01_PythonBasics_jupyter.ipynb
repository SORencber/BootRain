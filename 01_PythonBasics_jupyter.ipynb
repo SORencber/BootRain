{
 "cells": [
  {
   "cell_type": "markdown",
   "metadata": {
    "colab_type": "text",
    "id": "IackHuE_-9yl"
   },
   "source": [
    "Anyone who wants to deal with data science must have a programming language in the toolbox. It could be R, Java, Scala, Python or any other language. However, if you're searching for a new career in data science, you need to consider the adoption level of a programming language in this world. As a programming language developed by a Dutch programmer named **Guido Van Rossum**, Python is the king of the data science arena as being the most used language in this area. \n",
    "\n",
    "There are many reasons why we choose Python, which we are going to use during this course. Among them: \n",
    "\n",
    "- Python is a general-purpose language. So not only data science, it is a powerful language that can be used in many areas like web development, coding scripts, mobile application development or desktop software development. By learning Python, you will add more skills to your inventory.\n",
    "- Python is a language that is easy to learn and write with its clear and comprehensible syntax. Writing code, like speaking English, is an enjoyable job!\n",
    "- Python has a fantastic data science ecosystem. For every need you can think of, you can find a Python library. Python's open-source tools have an impressive ecosystem in many scientific areas.\n",
    "- According to many studies, Python is one of the fastest-growing languages in the world. Take a look at the TIOBE index's October 2019 data:"
   ]
  },
  {
   "cell_type": "markdown",
   "metadata": {},
   "source": [
    "<img src=\"https://bootrain-lms-assets.s3.eu-central-1.amazonaws.com/bootrain-lms-static/images/01_IntroductionToPython/00_Languages.png\" width=\"600\">"
   ]
  },
  {
   "cell_type": "markdown",
   "metadata": {
    "colab_type": "text",
    "id": "oIPiw3B6-9y6"
   },
   "source": [
    "# 1. Getting started\n",
    "\n",
    "First of all, we must choose a platform to run our source codes. There are many environments that you can run Python. These are called **Integrated Development Environment (IDE)** and are a set of special programs that let us write scripts. When it comes to Python, some popular IDEs are **VSCode**, **PyCharm** and **Jupyter Notebook**. Later in this course, we are going to use Jupyter Notebook to write our projects. \n",
    "\n",
    "We prefer to use online editors to run our codes throughout this module. This is just for the sake of making you familiar with the basics of Python without going into the details of how to set up an environment. You can write your Python code and run immediately using these online editors. Later in the course, you are going to learn how to set up your own environment on your personal computer.\n",
    "\n",
    "The online code editor which we are going to use is [Trinket](https://trinket.io/). We recommend you immediately practice every topic just after you learn it and you are encouraged to code more examples on your own on these topics. Some codes in lessons are interactive through the use of Trinket with inner frames. So, you can practice on the lesson web pages."
   ]
  },
  {
   "cell_type": "markdown",
   "metadata": {},
   "source": [
    "Click `Sign Up` on the upper right corner of the page and provide the requested information and log into your account. On your homepage, click `New Trinket` and `Python3` in order as seen in the picture below.\n",
    "\n",
    "<img src=\"https://bootrain-lms-assets.s3.eu-central-1.amazonaws.com/bootrain-lms-static/images/01_IntroductionToPython/01_NewTrinket.png\" width=\"900\">"
   ]
  },
  {
   "cell_type": "markdown",
   "metadata": {},
   "source": [
    "There are three main parts of the editor.\n",
    "\n",
    "- Area A: Coding area. Write your scripts here.\n",
    "\n",
    "- Area B: running the code button. After writing your code, you can hit this button, or you can use `Ctrl+Enter` combination from the keyboard.\n",
    "\n",
    "- Area C: Output area. You can check your code results here.\n",
    "\n",
    "<img src=\"https://bootrain-lms-assets.s3.eu-central-1.amazonaws.com/bootrain-lms-static/images/01_IntroductionToPython/01_Areas.png\" width=\"900\">"
   ]
  },
  {
   "cell_type": "markdown",
   "metadata": {},
   "source": [
    "Now, you may change the run mode to `>_ Console` (necessary for the first two examples to see the output), or you can use `► Run` mode.\n",
    "\n",
    "<img src=\"https://bootrain-lms-assets.s3.eu-central-1.amazonaws.com/bootrain-lms-static/images/01_IntroductionToPython/01_RunMode.png\" width=\"900\">\n",
    "\n",
    "If you choose `>_ Console` mode, it pretends command prompt (also known as a terminal on MAC), and first, it shows the code with the `>>>` sign in the beginning.\n",
    "\n",
    "When you choose the `► Run` mode (recommended), it directly shows the output and it is similar to Jupyter Notebook which we are going to use later."
   ]
  },
  {
   "cell_type": "markdown",
   "metadata": {},
   "source": [
    "The default file name is `main.py`. You can change the name of the file after downloading or you can add a new Python file and rename it. The extension for Python files is `.py`\n",
    "\n",
    "<img src=\"https://bootrain-lms-assets.s3.eu-central-1.amazonaws.com/bootrain-lms-static/images/01_IntroductionToPython/01_ChangeName.png\" width=\"600\">\n",
    "\n",
    "You can see `Download` command both under `Options` and `Share` menus."
   ]
  },
  {
   "cell_type": "markdown",
   "metadata": {
    "colab_type": "text",
    "id": "4ECgcxvc-9y-"
   },
   "source": [
    "## 1.1. Our First Code\n",
    "\n",
    "Python gives you the freedom to calculate and display the operations you type without writing any commands. It is as simple as using a calculator. For example, when we run `3 + 5` (>_ Console) we can see the result without writing any extra commands:"
   ]
  },
  {
   "cell_type": "code",
   "execution_count": 2,
   "metadata": {
    "colab": {
     "base_uri": "https://localhost:8080/",
     "height": 35
    },
    "colab_type": "code",
    "executionInfo": {
     "elapsed": 2545,
     "status": "ok",
     "timestamp": 1571561022172,
     "user": {
      "displayName": "Galip",
      "photoUrl": "",
      "userId": "08424181431520198416"
     },
     "user_tz": -180
    },
    "id": "Wk4nbrJV-9zC",
    "outputId": "785e7401-28db-442e-fd2b-0ac447893b2b"
   },
   "outputs": [
    {
     "data": {
      "text/plain": [
       "8"
      ]
     },
     "execution_count": 2,
     "metadata": {},
     "output_type": "execute_result"
    }
   ],
   "source": [
    "3+5"
   ]
  },
  {
   "cell_type": "markdown",
   "metadata": {},
   "source": [
    "Similarly, you can write any text between single (\") or double (') quotes and, the text will be displayed:"
   ]
  },
  {
   "cell_type": "code",
   "execution_count": 3,
   "metadata": {
    "colab": {
     "base_uri": "https://localhost:8080/",
     "height": 35
    },
    "colab_type": "code",
    "executionInfo": {
     "elapsed": 2514,
     "status": "ok",
     "timestamp": 1571561022176,
     "user": {
      "displayName": "Galip",
      "photoUrl": "",
      "userId": "08424181431520198416"
     },
     "user_tz": -180
    },
    "id": "4RVyFtNZ-9zO",
    "outputId": "e5337598-5053-4db5-d41f-df10786d0f28"
   },
   "outputs": [
    {
     "data": {
      "text/plain": [
       "'Welcome to Bootcamp!'"
      ]
     },
     "execution_count": 3,
     "metadata": {},
     "output_type": "execute_result"
    }
   ],
   "source": [
    "\"Welcome to Bootcamp!\""
   ]
  },
  {
   "cell_type": "markdown",
   "metadata": {
    "colab_type": "text",
    "id": "ycPgQidt-9zf"
   },
   "source": [
    "Do not worry if you are wondering why we put the quotes around the text. These quotes tell the computer that it is dealing with text. We are going to discuss this topic more in a later lesson.\n",
    "\n",
    "Next, let us see one of the most useful commands that Python provides us."
   ]
  },
  {
   "cell_type": "markdown",
   "metadata": {
    "colab_type": "text",
    "id": "yvIkEXgs-9zn"
   },
   "source": [
    "## 1.2. print() function\n",
    "\n",
    "In the examples above, we have displayed what we want directly on the output. However, most of the time, we calculate more complex things that do not fit in a single line. \n",
    "\n",
    "Python provides many built-in functions that help us achieve some functionality quickly. The most basic built-in function that we are going to use extensively is `print()`. This function prints out what it has between the parentheses."
   ]
  },
  {
   "cell_type": "markdown",
   "metadata": {},
   "source": [
    "<iframe src=\"https://trinket.io/embed/python3/54bca640a3\" width=\"100%\" height=\"150\" frameborder=\"0\" marginwidth=\"0\" marginheight=\"0\" allowfullscreen></iframe>"
   ]
  },
  {
   "cell_type": "markdown",
   "metadata": {},
   "source": [
    "<iframe src=\"https://trinket.io/embed/python3/409f6b05c1\" width=\"100%\" height=\"150\" frameborder=\"0\" marginwidth=\"0\" marginheight=\"0\" allowfullscreen></iframe>"
   ]
  },
  {
   "cell_type": "markdown",
   "metadata": {
    "colab_type": "text",
    "id": "lJqGh9Gd-90P"
   },
   "source": [
    "The task of `print()` function is to **output to the screen**. You may think that the above text is already displayed on the screen. However, when you type more than one statement, you can see that this is not the case. If you write something on-screen without using `print()` function, only the last one or none of them is shown."
   ]
  },
  {
   "cell_type": "code",
   "execution_count": null,
   "metadata": {
    "colab": {
     "base_uri": "https://localhost:8080/",
     "height": 35
    },
    "colab_type": "code",
    "executionInfo": {
     "elapsed": 2418,
     "status": "ok",
     "timestamp": 1571561022188,
     "user": {
      "displayName": "Galip",
      "photoUrl": "",
      "userId": "08424181431520198416"
     },
     "user_tz": -180
    },
    "id": "g5q2IKkP-90R",
    "outputId": "81427f6f-b3b9-4d08-e42c-0b4c68b51a3e"
   },
   "outputs": [],
   "source": [
    "3+5\n",
    "\"Welcome to Bootcamp!\""
   ]
  },
  {
   "cell_type": "markdown",
   "metadata": {
    "colab_type": "text",
    "id": "Wb7rG5Li-90Y"
   },
   "source": [
    "As you see, we did not use `print()`, so we could only display the last command on the screen. However, with `print()`, we can see both of them on the screen:"
   ]
  },
  {
   "cell_type": "code",
   "execution_count": 6,
   "metadata": {},
   "outputs": [
    {
     "name": "stdout",
     "output_type": "stream",
     "text": [
      "Result of addition : 8\n",
      "Welcome to Bootcamp!\n"
     ]
    }
   ],
   "source": [
    "print(\"Result of addition :\",  3+5)\n",
    "print(\"Welcome to Bootcamp!\")"
   ]
  },
  {
   "cell_type": "markdown",
   "metadata": {
    "colab_type": "text",
    "id": "rvnECbFb-90l"
   },
   "source": [
    "Using `print()`, we can write more than one expression at the same time. In this case, we need to separate each expression with a comma (`,`) as follows:"
   ]
  },
  {
   "cell_type": "code",
   "execution_count": 7,
   "metadata": {},
   "outputs": [
    {
     "name": "stdout",
     "output_type": "stream",
     "text": [
      "He is 15 years old.\n"
     ]
    }
   ],
   "source": [
    "print (\"He is\" , 15 , \"years old.\")"
   ]
  },
  {
   "cell_type": "markdown",
   "metadata": {},
   "source": [
    "Python has many built-in functionalities. Throughout your journey in learning Python, you are going to discover these *made-for-you* capabilities and you are going to be familiar with them gradually. `print()` may seem so simple to you, however you are going to use other built-in functions that can do much more complicated things. This is just a first glance into what Python offers you."
   ]
  },
  {
   "cell_type": "markdown",
   "metadata": {
    "colab_type": "text",
    "id": "BYLWPUyA-90t"
   },
   "source": [
    "## 1.3. Using quotation marks\n",
    "\n",
    "You may notice that in the examples above, we have encapsulated texts between quotes. To satisfy your curiosity, we next explain why we did that. In Python, as in most of the programming languages, we let Python know that we are giving a text by covering it between the quotes. This is how Python distinguishes texts from other possible types like numbers. That is to say, `3` and `\"3\"` mean two different things for Python. The first one represents a number (particularly an integer) and the second one represents a piece of text even, though that text contains a numerical character. So, we can't make calculations with `\"3\"` text."
   ]
  },
  {
   "cell_type": "code",
   "execution_count": 8,
   "metadata": {},
   "outputs": [
    {
     "name": "stdout",
     "output_type": "stream",
     "text": [
      "3 + 5 =  8\n"
     ]
    }
   ],
   "source": [
    "print(\"3 + 5 = \",  3+5)"
   ]
  },
  {
   "cell_type": "markdown",
   "metadata": {},
   "source": [
    "When we write text, we can encapsulate it using three different quote types: single quote, double quote and triple quote. All of the three types do the same thing. They do not indicate hierarchy. So, it is totally up to us which one to use. In the following example, all three sentences are texts:"
   ]
  },
  {
   "cell_type": "code",
   "execution_count": 5,
   "metadata": {},
   "outputs": [
    {
     "name": "stdout",
     "output_type": "stream",
     "text": [
      "Single quote\n",
      "Double quote\n",
      "Three double quote\n"
     ]
    }
   ],
   "source": [
    "print('Single quote')\n",
    "print(\"Double quote\")\n",
    "print(\"\"\"Three double quote\"\"\")"
   ]
  },
  {
   "cell_type": "markdown",
   "metadata": {},
   "source": [
    "To convince you, you can try changing the quotations in the example below and see whether the `print()` function outputs the same thing."
   ]
  },
  {
   "cell_type": "code",
   "execution_count": 9,
   "metadata": {},
   "outputs": [
    {
     "name": "stdout",
     "output_type": "stream",
     "text": [
      "If you can dream it, you can do it!\n",
      "It is your choise, you can use \"double quote\" or \"single quote\"\n",
      "If you need more than one line  \n",
      "Use three double quotes...\n",
      "\n"
     ]
    }
   ],
   "source": [
    "print(\"If you can dream it, you can do it!\")\n",
    "print('It is your choise, you can use \"double quote\" or \"single quote\"')\n",
    "print(\"\"\"If you need more than one line  \n",
    "Use three double quotes...\n",
    "\"\"\")"
   ]
  },
  {
   "cell_type": "markdown",
   "metadata": {
    "colab_type": "text",
    "id": "xSjvNyA9-909"
   },
   "source": [
    "If you want to show a quotation mark in your output, you must use a different type of quotation mark as in the second print() function example above.\n",
    "\n",
    "When you write more than one expression in `print()` command, you notice that it combines these statements **by adding \" \" whitespace**. This is due to the `sep =\" \"` parameter, which is one of the default parameters of `print()` command. This parameter, which is defined as whitespace (\" \") by default, is not visible in the background in `print()` command. We can change this value if we wish:"
   ]
  },
  {
   "cell_type": "code",
   "execution_count": 10,
   "metadata": {},
   "outputs": [
    {
     "name": "stdout",
     "output_type": "stream",
     "text": [
      "He is 15 years old.\n",
      "He is+15+years old.\n"
     ]
    }
   ],
   "source": [
    "# It is possible to use different types of quotes in one command.\n",
    "# But, it must end with the beginnig type in a text.\n",
    "print ('He is' , 15 , \"years old.\")\n",
    "print (\"He is\" , 15 , \"years old.\", sep=\"+\")"
   ]
  },
  {
   "cell_type": "markdown",
   "metadata": {
    "colab_type": "text",
    "id": "IRXoHQ9E-91M"
   },
   "source": [
    "`print()` command automatically switches to the next line. This is due to the `end =\"\\n\"` parameter. If we type whitespace instead, we can print side by side instead of the next line:"
   ]
  },
  {
   "cell_type": "code",
   "execution_count": null,
   "metadata": {},
   "outputs": [],
   "source": [
    "print(\"Hello\")\n",
    "print(\"World\")"
   ]
  },
  {
   "cell_type": "code",
   "execution_count": null,
   "metadata": {},
   "outputs": [],
   "source": [
    "print(\"Hello\", end=\" \")\n",
    "print(\"World\", end=\" \")"
   ]
  },
  {
   "cell_type": "markdown",
   "metadata": {
    "colab_type": "text",
    "id": "vG8Mole_-91Z"
   },
   "source": [
    "## 1.4. Comments\n",
    "\n",
    "So far in this lesson, we have used the `#` sign frequently in the code. The `#` sign is used to annotate or disable some of the code. Text written after the `#` does not affect the execution of our code. Because of this reason, we use it to write our single-line comments that explain our code.\n",
    "\n",
    "Writing comments is a best-practice in software development and data science. When writing hundreds or even thousands of lines of code, we want to note what we are doing in a specific part of that code. This is useful for at least two reasons:\n",
    "\n",
    "1. We may forget what we did in the code. It can sometimes be hard to remember why and what you wrote some time ago. So, at a later time when we need to modify that code, we may spend a lot of time figuring out what a code part does.\n",
    "\n",
    "2. When collaborating within a team, people often write codes that others can also contribute. In this case, comments are helpful as other people can understand what we do in a specific part of the code.\n",
    "\n",
    "So, when you see the `#` sign at the beginning of a line, you can safely assume that line does not interfere with the execution of the code.\n",
    "\n",
    "Comments are sometimes added at the end of a line of code, in order to make the program more compact. These comments are also ignored by the computer when running the program."
   ]
  },
  {
   "cell_type": "markdown",
   "metadata": {},
   "source": [
    "# 2. Line structure in Python\n",
    "\n",
    "In the second section of this lesson, we want to talk about the line structure of the Python codes.\n",
    "\n",
    "A Python program is divided into several logical lines. But how do we define the **end of the line**? While writing code in an editor; if we hit enter, the cursor moves to the next line and, that is all. Although this is valid, this is not the whole story in Python.\n",
    "\n",
    "The token **NEWLINE** represents the end of a line. In programming languages, this is represented by `\\n`. Here, `\\` and `n` (which stands for 'new') are used together for a new line. To see this, you can write a text that contains `\\n` in the middle of the text and print that text as below:"
   ]
  },
  {
   "cell_type": "code",
   "execution_count": 14,
   "metadata": {},
   "outputs": [
    {
     "name": "stdout",
     "output_type": "stream",
     "text": [
      "This is a \n",
      " sentence that contains a new line character in it!\n"
     ]
    }
   ],
   "source": [
    "print(\"This is a \\n sentence that contains a new line character in it!\")"
   ]
  },
  {
   "cell_type": "markdown",
   "metadata": {},
   "source": [
    "As you can see, when `print()` function sees `\\n`, it separates the text into two and outputs them in separate lines.\n",
    "\n",
    "Moreover, programmatically two lines can be treated as a single line by Python. By putting the `\\` character at the end of a line, we tell Python that the next line is a continuation of this line and hence should be treated as a single line. Let us demonstrate this:"
   ]
  },
  {
   "cell_type": "code",
   "execution_count": 11,
   "metadata": {},
   "outputs": [
    {
     "name": "stdout",
     "output_type": "stream",
     "text": [
      "Hello world\n"
     ]
    }
   ],
   "source": [
    "print(\"Hello \\\n",
    "world\")"
   ]
  },
  {
   "cell_type": "markdown",
   "metadata": {},
   "source": [
    "**In short, this means that physical lines are what you see as lines in an editor and logical lines are what Python sees as lines**.\n",
    "\n",
    "Before closing this topic, we want to highlight that sometimes we may not need to put `\\` character at the end of a line to tell Python that the next line is a continuation of the previous one. For example, when printing two texts using the `print()` function, we need to separate those two texts by a comma. So, separating two texts in two lines is totally valid in Python. This is because Python understands that after the comma, a new text should come and hence the next line should be the continuation of the previous line.\n",
    "\n",
    "The following example illustrates this:"
   ]
  },
  {
   "cell_type": "code",
   "execution_count": 12,
   "metadata": {},
   "outputs": [
    {
     "name": "stdout",
     "output_type": "stream",
     "text": [
      "Hello World\n"
     ]
    }
   ],
   "source": [
    "print(\"Hello\", \n",
    "       \"World\")"
   ]
  },
  {
   "cell_type": "markdown",
   "metadata": {},
   "source": [
    "We are all done for now. Now it is your turn to show your Python skills."
   ]
  },
  {
   "cell_type": "markdown",
   "metadata": {},
   "source": [
    "# Assignment\n",
    "\n",
    "In the following assignments, you need to write your codes in Trinket. Once you are done with the solutions, download your code as a Python file (a file that ends with `.py` extension). Then, upload that file to your GitHub account and share the GitHub link with us by hitting the button below. \n",
    "\n",
    "1. Write a code that outputs your name and surname in one line.\n",
    "2. Write a 1-line code that outputs your name and surname in two separate lines by using a single `print()` call.\n",
    "3. Use `print()` function that returns the following text. Notice the quotes in the text. Those quotes should be seen in the output!: \n",
    "        `I don't want to be an \"artist\". I want to be a \"Data Scientist.\"`"
   ]
  }
 ],
 "metadata": {
  "colab": {
   "collapsed_sections": [],
   "name": "2.PythonBasics.ipynb",
   "provenance": []
  },
  "kernelspec": {
   "display_name": "Python 3",
   "language": "python",
   "name": "python3"
  },
  "language_info": {
   "codemirror_mode": {
    "name": "ipython",
    "version": 3
   },
   "file_extension": ".py",
   "mimetype": "text/x-python",
   "name": "python",
   "nbconvert_exporter": "python",
   "pygments_lexer": "ipython3",
   "version": "3.6.7"
  },
  "latex_envs": {
   "LaTeX_envs_menu_present": true,
   "autoclose": false,
   "autocomplete": true,
   "bibliofile": "biblio.bib",
   "cite_by": "apalike",
   "current_citInitial": 1,
   "eqLabelWithNumbers": true,
   "eqNumInitial": 1,
   "hotkeys": {
    "equation": "Ctrl-E",
    "itemize": "Ctrl-I"
   },
   "labels_anchors": false,
   "latex_user_defs": false,
   "report_style_numbering": false,
   "user_envs_cfg": false
  },
  "varInspector": {
   "cols": {
    "lenName": 16,
    "lenType": 16,
    "lenVar": 40
   },
   "kernels_config": {
    "python": {
     "delete_cmd_postfix": "",
     "delete_cmd_prefix": "del ",
     "library": "var_list.py",
     "varRefreshCmd": "print(var_dic_list())"
    },
    "r": {
     "delete_cmd_postfix": ") ",
     "delete_cmd_prefix": "rm(",
     "library": "var_list.r",
     "varRefreshCmd": "cat(var_dic_list()) "
    }
   },
   "types_to_exclude": [
    "module",
    "function",
    "builtin_function_or_method",
    "instance",
    "_Feature"
   ],
   "window_display": false
  }
 },
 "nbformat": 4,
 "nbformat_minor": 4
}
