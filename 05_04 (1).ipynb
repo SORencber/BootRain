{
  "nbformat": 4,
  "nbformat_minor": 0,
  "metadata": {
    "colab": {
      "name": "05_04.ipynb",
      "provenance": [],
      "collapsed_sections": []
    },
    "kernelspec": {
      "name": "python3",
      "display_name": "Python 3"
    }
  },
  "cells": [
    {
      "cell_type": "code",
      "metadata": {
        "id": "v1g9R1DBXj6W",
        "colab_type": "code",
        "colab": {}
      },
      "source": [
        "import numpy as np\n",
        "import matplotlib.pyplot as plt\n"
      ],
      "execution_count": 48,
      "outputs": []
    },
    {
      "cell_type": "code",
      "metadata": {
        "id": "kjkhgKf8YLro",
        "colab_type": "code",
        "colab": {}
      },
      "source": [
        "sample_1=np.random.normal(12,4,1000)\n",
        "sample_2=np.random.normal(100,23,1000)\n",
        "sample_1_means=[]\n",
        "sample_2_means=[]\n",
        "temp_1=[]\n",
        "temp_2=[]"
      ],
      "execution_count": 64,
      "outputs": []
    },
    {
      "cell_type": "code",
      "metadata": {
        "id": "tHVU0lmrYeVH",
        "colab_type": "code",
        "colab": {
          "base_uri": "https://localhost:8080/",
          "height": 546
        },
        "outputId": "f937bcf2-7da0-4937-8109-005b49620f88"
      },
      "source": [
        "for a in range(0,50):\n",
        "  temp_1.append(sample_1[a])\n",
        "  sample_1_means.append(np.mean(temp_1))\n",
        "print(len(sample_1_means))\n",
        "plt.hist(sample_1_means)\n",
        "plt.show()\n",
        "for a in range(0,1000):\n",
        "  temp_2.append(sample_2[a])\n",
        "  sample_2_means.append(np.mean(temp_2))\n",
        "print(len(sample_2_means))\n",
        "plt.hist(sample_2_means)\n",
        "plt.show()"
      ],
      "execution_count": 65,
      "outputs": [
        {
          "output_type": "stream",
          "text": [
            "50\n"
          ],
          "name": "stdout"
        },
        {
          "output_type": "display_data",
          "data": {
            "image/png": "[encoded data removed]",
            "text/plain": [
              "<Figure size 432x288 with 1 Axes>"
            ]
          },
          "metadata": {
            "tags": [],
            "needs_background": "light"
          }
        },
        {
          "output_type": "stream",
          "text": [
            "1000\n"
          ],
          "name": "stdout"
        },
        {
          "output_type": "display_data",
          "data": {
            "image/png": "[encoded data removed]",
            "text/plain": [
              "<Figure size 432x288 with 1 Axes>"
            ]
          },
          "metadata": {
            "tags": [],
            "needs_background": "light"
          }
        }
      ]
    },
    {
      "cell_type": "code",
      "metadata": {
        "id": "bUcedr9_bgcN",
        "colab_type": "code",
        "colab": {
          "base_uri": "https://localhost:8080/",
          "height": 166
        },
        "outputId": "ff21ee15-c7c8-4090-a949-993ed3f109d4"
      },
      "source": [
        "from scipy import stats\n",
        "k2,p=normaltest(sample_1_means)\n",
        "if (p<0.05):\n",
        "  print(\"Sample 1 has not got Normal distribution\")\n",
        "else:\n",
        "  print(\"Sample 1 has got Normal distribution\")\n",
        "print(\"\\nk2 : {} and p value : {}\".format(k2,p) )\n",
        "\n",
        "k2,p=normaltest(sample_2_means)\n",
        "if (p<0.05):\n",
        "  print(\"\\n\\n\\nSample 2 has not got Normal distribution\")\n",
        "else:\n",
        "  print(\"Sample 2 has got Normal distribution\")\n",
        "print(\"\\nk2 : {} and p value : {}\".format(k2,p) )"
      ],
      "execution_count": 66,
      "outputs": [
        {
          "output_type": "stream",
          "text": [
            "Sample 1 has not got Normal distribution\n",
            "\n",
            "k2 : 24.256772876829064 and p value : 5.403917316470025e-06\n",
            "\n",
            "\n",
            "\n",
            "Sample 2 has not got Normal distribution\n",
            "\n",
            "k2 : 1129.7206812006877 and p value : 4.833603598815332e-246\n"
          ],
          "name": "stdout"
        }
      ]
    },
    {
      "cell_type": "code",
      "metadata": {
        "id": "KLyLy9Kuird7",
        "colab_type": "code",
        "colab": {
          "base_uri": "https://localhost:8080/",
          "height": 573
        },
        "outputId": "316af297-bb79-4a63-d2c5-5550bfc44426"
      },
      "source": [
        "sample_1_means.sort()\n",
        "res=stats.probplot(sample_1_means,plot=plt)\n",
        "plt.title(\"Q-Q plot\")\n",
        "plt.xlabel(\"Theoretical Values\")\n",
        "plt.ylabel(\"Sample Data 1\")\n",
        "plt.show()\n",
        "sample_2_means.sort()\n",
        "res=stats.probplot(sample_2_means,plot=plt)\n",
        "plt.title(\"Q-Q plot\")\n",
        "plt.xlabel(\"Theoretical Values\")\n",
        "plt.ylabel(\"Sample Data 2\")\n",
        "plt.show()"
      ],
      "execution_count": 67,
      "outputs": [
        {
          "output_type": "display_data",
          "data": {
            "image/png": "[encoded data removed]",
            "text/plain": [
              "<Figure size 432x288 with 1 Axes>"
            ]
          },
          "metadata": {
            "tags": [],
            "needs_background": "light"
          }
        },
        {
          "output_type": "display_data",
          "data": {
            "image/png": "[encoded data removed]",
            "text/plain": [
              "<Figure size 432x288 with 1 Axes>"
            ]
          },
          "metadata": {
            "tags": [],
            "needs_background": "light"
          }
        }
      ]
    },
    {
      "cell_type": "code",
      "metadata": {
        "id": "GKizRIVEmm_w",
        "colab_type": "code",
        "colab": {}
      },
      "source": [
        ""
      ],
      "execution_count": null,
      "outputs": []
    }
  ]
}