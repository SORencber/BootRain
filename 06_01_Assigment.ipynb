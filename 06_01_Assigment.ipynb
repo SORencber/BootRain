{
  "nbformat": 4,
  "nbformat_minor": 0,
  "metadata": {
    "colab": {
      "name": "01_Assigment.ipynb",
      "provenance": [],
      "collapsed_sections": []
    },
    "kernelspec": {
      "name": "python3",
      "display_name": "Python 3"
    }
  },
  "cells": [
    {
      "cell_type": "code",
      "metadata": {
        "id": "fcCeMerNInce",
        "colab_type": "code",
        "colab": {}
      },
      "source": [
        "# Assignment\n",
        "\n",
        "To complete this assignment, send the Github link of the Jupyter notebook file containing solutions to the following questions:\n",
        "\n",
        "1. What is the purpose the data exploration?\n",
        "\n"
      ],
      "execution_count": null,
      "outputs": []
    },
    {
      "cell_type": "code",
      "metadata": {
        "id": "HzFurDR2Ixgg",
        "colab_type": "code",
        "colab": {}
      },
      "source": [
        "Exploratory data analysis is the first building block of the data science pipeline. Before moving on to the modeling phase, we need to fully understand the data we work with. The better we understand our data, the more useful we can identify and extract the most useful features, which boost the performance of the model."
      ],
      "execution_count": null,
      "outputs": []
    },
    {
      "cell_type": "code",
      "metadata": {
        "id": "9aKgZW78IuUO",
        "colab_type": "code",
        "colab": {}
      },
      "source": [
        "2. Suppose you are working on a dataset containing customer reviews of an e-commerce company's products. Customer reviews collected through the company's website are rated between 1 and 5 depending on whether the content is positive or negative.\n",
        "    - What kind of problems do you expect to encounter in this raw data?\n",
        "    - If your task is to identify the characteristics that reveal that the customers' comments are positive or negative, how would you do that and what methods would you use for this?\n",
        "    - What are the useful features that can be extracted from raw data? How can you access this data and understand whether it is useful?"
      ],
      "execution_count": null,
      "outputs": []
    },
    {
      "cell_type": "code",
      "metadata": {
        "id": "Hfv8euDlKIWB",
        "colab_type": "code",
        "colab": {}
      },
      "source": [
        "-If the company did not require the assessment every time a product is received, then there will be missing data.\n",
        "If there is a compulsory evaluation, my data for all products have been completed.\n",
        "\n",
        "-Assuming that I have two variables (product name and score), using the pandas library, grouping by product, how many values it has between 1 and 5 for a product. It can be obtained by counting the number of data between 1 and 5 from which product.\n",
        "-Considering that the raw data has been cleared, we have a chance to get many analyzes from this data. Meaningful data can be obtained by using various python libraries (such as pandas, numpy, myplot)."
      ],
      "execution_count": null,
      "outputs": []
    },
    {
      "cell_type": "code",
      "metadata": {
        "id": "WSjjq2zVIwNq",
        "colab_type": "code",
        "colab": {}
      },
      "source": [
        "3. Why do you think missing values should be taking care of?\n",
        "\n",
        "Since missing data may mean an important part of the data, these data should be eliminated by various methods. Otherwise, accurate and complete information may not always be obtained."
      ],
      "execution_count": null,
      "outputs": []
    },
    {
      "cell_type": "code",
      "metadata": {
        "id": "6KvVcMNkIya6",
        "colab_type": "code",
        "colab": {}
      },
      "source": [
        "4. Do you think that outliers have an impact on a dataset? If so, how would you explain this impact?\n",
        "Outlier data can be evaluated according to the area to be analyzed. For example, data scientists with financial expertise can decide how sensitive and important data in which areas are outliers. Thus, various techniques can be used to manipulate these outlier data."
      ],
      "execution_count": null,
      "outputs": []
    },
    {
      "cell_type": "code",
      "metadata": {
        "id": "RraLGNDOI0_s",
        "colab_type": "code",
        "colab": {}
      },
      "source": [
        "5. Please briefly summarize you first actions when you start analyzing the data?\n",
        "First of all, I import the data. Then I look at the columns of the data and determine the data type and properties of each column.\n",
        "Then I detect the missing data in each column and try to complete the missing data according to their significance. I convert the irregular data types to the appropriate data type for analysis.\n",
        "then I start the analysis process."
      ],
      "execution_count": null,
      "outputs": []
    }
  ]
}