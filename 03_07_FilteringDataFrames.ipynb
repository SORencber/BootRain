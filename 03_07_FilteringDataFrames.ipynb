{
 "cells": [
  {
   "cell_type": "markdown",
   "metadata": {},
   "source": [
    "# <font color=blue>Assignments for Filtering Dataframes</font>\n",
    "\n",
    "For Pandas assignments, you are going to use [Titanic](https://www.kaggle.com/c/titanic/download/GQf0y8ebHO0C4JXscPPp%2Fversions%2FXkNkvXwqPPVG0Qt3MtQT%2Ffiles%2Ftrain.csv) (train.csv) dataset. Download the dataset and load to a DataFrame.\n",
    "\n",
    "1. By using conditional selection methods, calculate the survival rate for all passengers under 30 years old.\n"
   ]
  },
  {
   "cell_type": "code",
   "execution_count": 22,
   "metadata": {},
   "outputs": [
    {
     "data": {
      "text/plain": [
       "Age    Survived\n",
       "0.42   1           1\n",
       "0.67   1           1\n",
       "0.75   1           2\n",
       "0.83   1           2\n",
       "0.92   1           1\n",
       "1.00   0           2\n",
       "       1           5\n",
       "2.00   0           7\n",
       "       1           3\n",
       "3.00   0           1\n",
       "       1           5\n",
       "4.00   0           3\n",
       "       1           7\n",
       "5.00   1           4\n",
       "6.00   0           1\n",
       "       1           2\n",
       "7.00   0           2\n",
       "       1           1\n",
       "8.00   0           2\n",
       "       1           2\n",
       "9.00   0           6\n",
       "       1           2\n",
       "10.00  0           2\n",
       "11.00  0           3\n",
       "       1           1\n",
       "12.00  1           1\n",
       "13.00  1           2\n",
       "14.00  0           3\n",
       "       1           3\n",
       "14.50  0           1\n",
       "                  ..\n",
       "51.00  0           5\n",
       "       1           2\n",
       "52.00  0           3\n",
       "       1           3\n",
       "53.00  1           1\n",
       "54.00  0           5\n",
       "       1           3\n",
       "55.00  0           1\n",
       "       1           1\n",
       "55.50  0           1\n",
       "56.00  0           2\n",
       "       1           2\n",
       "57.00  0           2\n",
       "58.00  0           2\n",
       "       1           3\n",
       "59.00  0           2\n",
       "60.00  0           2\n",
       "       1           2\n",
       "61.00  0           3\n",
       "62.00  0           2\n",
       "       1           2\n",
       "63.00  1           2\n",
       "64.00  0           2\n",
       "65.00  0           3\n",
       "66.00  0           1\n",
       "70.00  0           2\n",
       "70.50  0           1\n",
       "71.00  0           2\n",
       "74.00  0           1\n",
       "80.00  1           1\n",
       "Name: Sex, Length: 142, dtype: int64"
      ]
     },
     "execution_count": 22,
     "metadata": {},
     "output_type": "execute_result"
    }
   ],
   "source": [
    "import pandas as pd\n",
    "df=pd.read_csv(\"titanic.csv\")\n",
    "df2 = pd.DataFrame(df)\n",
    "df2[(df2['Age']<30)].agg({\"Survived\" : ['mean', \"count\"],  \n",
    "                                       \"Survived\" : ['mean', \"sum\"] })\n",
    "df2.groupby(by=[\"Age\",\"Survived\"])[\"Sex\"].count()"
   ]
  },
  {
   "cell_type": "markdown",
   "metadata": {},
   "source": [
    "2. Calculate the survival rate by gender."
   ]
  },
  {
   "cell_type": "code",
   "execution_count": 16,
   "metadata": {},
   "outputs": [
    {
     "data": {
      "text/plain": [
       "Sex     Survived\n",
       "female  0            81\n",
       "        1           233\n",
       "male    0           468\n",
       "        1           109\n",
       "Name: Sex, dtype: int64"
      ]
     },
     "execution_count": 16,
     "metadata": {},
     "output_type": "execute_result"
    }
   ],
   "source": [
    "df2.groupby(by=[\"Sex\",\"Survived\"])[\"Sex\"].count()"
   ]
  },
  {
   "cell_type": "code",
   "execution_count": null,
   "metadata": {},
   "outputs": [],
   "source": []
  }
 ],
 "metadata": {
  "kernelspec": {
   "display_name": "Python 3",
   "language": "python",
   "name": "python3"
  },
  "language_info": {
   "codemirror_mode": {
    "name": "ipython",
    "version": 3
   },
   "file_extension": ".py",
   "mimetype": "text/x-python",
   "name": "python",
   "nbconvert_exporter": "python",
   "pygments_lexer": "ipython3",
   "version": "3.7.1"
  }
 },
 "nbformat": 4,
 "nbformat_minor": 4
}
