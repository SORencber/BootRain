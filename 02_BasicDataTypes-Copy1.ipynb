{
 "cells": [
  {
   "cell_type": "markdown",
   "metadata": {
    "colab_type": "text",
    "id": "I2p1oE1X-92j"
   },
   "source": [
    "There are various data types in Python. The diagram below shows the structure of these types. \n",
    "\n",
    "<img src=\"https://bootrain-lms-assets.s3.eu-central-1.amazonaws.com/bootrain-lms-static/images/01_IntroductionToPython/02_DataTypes.png\" width=\"1000\">\n",
    "\n",
    "Here, we first talk about four basic data types of Python. These are:\n",
    "- **String**: A string represents text. It is comprised of a set of characters that can contain spaces, numbers or signs.\n",
    "- **Numeric**: They can be an integer (e.g. 5) or float (e.g. 3.33333). Note that the decimal point is represented by a period instead of a comma. We are not going to mention complex numeric types at this point. \n",
    "- **Boolean**: This type of data represents True or False.\n",
    "- **None type**: This type is useful for representing the absence of information in general.\n",
    "\n",
    "Besides these, there are also more complex types (collections) of data in Python like:\n",
    "- **List**: An ordered collection of terms, be it numbers, strings, booleans, or any combination of these.\n",
    "- **Tuple**: An ordered collection of terms, which usually have a semantic connection. \n",
    "- **Dictionary**: A unordered collection that pairs a series of unordered unique entities with a set of values (which don't have to be unique) for easy referencing.\n",
    "- **Set**: An unordered collection of entities, all of them unique.\n",
    "\n",
    "Since we are going to learn **none type, list, tuple, dictionary and set** types in the following lessons, we are going to focus on the basic data types in this lesson.\n",
    "\n",
    "We are not going to cover **complex numbers** in our lessons as they are not that commonly used in data science projects.\n",
    "\n",
    "Every variable that is assigned a value has a data type in Python. We can use the `type()` command to learn a variable's type:"
   ]
  },
  {
   "cell_type": "code",
   "execution_count": null,
   "metadata": {},
   "outputs": [],
   "source": [
    "Exam_Score = 42\n",
    "print (\"Type of variable Exam_Score  : \", type(Exam_Score))\n",
    "print (\"Value of variable Exam_Score : \", Exam_Score)"
   ]
  },
  {
   "cell_type": "code",
   "execution_count": null,
   "metadata": {},
   "outputs": [],
   "source": [
    "Exam_Score = \"forty two\"\n",
    "print (\"Type of variable Exam_Score  : \", type(Exam_Score))\n",
    "print (\"Value of variable Exam_Score : \", Exam_Score)"
   ]
  },
  {
   "cell_type": "code",
   "execution_count": null,
   "metadata": {},
   "outputs": [],
   "source": [
    "Exam_Success = False\n",
    "print (\"Type of variable Exam_Success  : \", type(Exam_Success))\n",
    "print (\"Value of variable Exam_Success : \", Exam_Success)"
   ]
  },
  {
   "cell_type": "markdown",
   "metadata": {
    "colab_type": "text",
    "id": "oY8soAD9-92y"
   },
   "source": [
    "We have assigned int (42), string ('forty two') and boolean (False) values to the variables we defined above. As you can see, we used the same variable to represent each value. Hence, we overwrite the value of the variable several times. Notice that when we assign something different to a variable, its data type changes accordingly."
   ]
  },
  {
   "cell_type": "markdown",
   "metadata": {
    "colab_type": "text",
    "id": "Rd4B4L9r-92z"
   },
   "source": [
    "# 1. Numbers: Integer and Float \n",
    "\n",
    "Most common two types of numbers in Python: integer and float:\n",
    "\n",
    "- **Integers:** Integers are not written as a fraction or as a decimal number. There is no limit to the maximum integer we can define.\n",
    "- **Floats:** Numbers containing a decimal point. The precision of these numbers, although high, is not perfect, however."
   ]
  },
  {
   "cell_type": "code",
   "execution_count": null,
   "metadata": {},
   "outputs": [],
   "source": [
    "pi_value = 3.14 # Defining float\n",
    "radius = 10 # Defining integer\n",
    "\n",
    "print(pi_value)\n",
    "print(radius)"
   ]
  },
  {
   "cell_type": "markdown",
   "metadata": {
    "colab_type": "text",
    "id": "RMT8x5Ui-924"
   },
   "source": [
    "Now let us look at the **arithmetic operations** that we can do with numbers."
   ]
  },
  {
   "cell_type": "markdown",
   "metadata": {
    "colab_type": "text",
    "id": "oSiW-1HL-925"
   },
   "source": [
    "## 1.1. Addition and Subtraction\n",
    "\n",
    "We use **`+`** for addition and **`-`** for subtraction."
   ]
  },
  {
   "cell_type": "code",
   "execution_count": null,
   "metadata": {},
   "outputs": [],
   "source": [
    "print(3+5)\n",
    "print(pi_value)\n",
    "print(radius)"
   ]
  },
  {
   "cell_type": "markdown",
   "metadata": {},
   "source": [
    "Now it is your turn. Change the code and make calculations."
   ]
  },
  {
   "cell_type": "code",
   "execution_count": 2,
   "metadata": {},
   "outputs": [
    {
     "name": "stdout",
     "output_type": "stream",
     "text": [
      "Sum of 15 and 22       :  37\n",
      "Subtraction 15 from 22 :  7\n"
     ]
    }
   ],
   "source": [
    "#Assign the correct value to sum_result and subtract_result variables\n",
    "number_1 = 22\n",
    "number_2 = 15\n",
    "\n",
    "# Addition\n",
    "sum_result = number_1+number_2 #change this line\n",
    "print(\"Sum of 15 and 22       : \", sum_result)\n",
    "\n",
    "# Subtraction\n",
    "subtract_result = number_1-number_2 #change this line\n",
    "print(\"Subtraction 15 from 22 : \", subtract_result)"
   ]
  },
  {
   "cell_type": "markdown",
   "metadata": {
    "colab_type": "text",
    "id": "BYb0_Fsp-92-"
   },
   "source": [
    "## 1.2. Multiplication and exponential (power) calculation\n",
    "\n",
    "**`*`** is used for multiplication and `**` is used for exponential (power) calculation. "
   ]
  },
  {
   "cell_type": "code",
   "execution_count": 3,
   "metadata": {},
   "outputs": [
    {
     "name": "stdout",
     "output_type": "stream",
     "text": [
      "Multiplication of 3 and 2 : 6\n",
      "Square of 3               : 9\n"
     ]
    }
   ],
   "source": [
    "print('Multiplication of 3 and 2 :', 3*2)\n",
    "print('Square of 3               :', 3**2)"
   ]
  },
  {
   "cell_type": "markdown",
   "metadata": {},
   "source": [
    "Now it is your turn again."
   ]
  },
  {
   "cell_type": "code",
   "execution_count": 5,
   "metadata": {},
   "outputs": [
    {
     "name": "stdout",
     "output_type": "stream",
     "text": [
      "Multiplication of 15 and 22 :  330\n",
      "Square of 9                 :  81\n",
      "4 to the power 3            :  64\n"
     ]
    }
   ],
   "source": [
    "# Multiplication\n",
    "Multiplication = 15*22 #change this line \n",
    "print(\"Multiplication of 15 and 22 : \", Multiplication)\n",
    "\n",
    "# Square\n",
    "square = 9**2 #change this line \n",
    "print(\"Square of 9                 : \", square)\n",
    "\n",
    "# Exponent\n",
    "exp =  4**3 #change this line  \n",
    "print(\"4 to the power 3            : \", exp)"
   ]
  },
  {
   "cell_type": "markdown",
   "metadata": {
    "colab_type": "text",
    "id": "b8-MrQUE-93C"
   },
   "source": [
    "## 1.3. Division \n",
    "We use one or two division slash (**`/`** and **`//`**) for dividing numbers. When we divide by **`//`**, the decimal part of the result is discarded and the ouput is an integer (aka integer division) The mod (**`%`**) sign is used to find the remainder of the division."
   ]
  },
  {
   "cell_type": "markdown",
   "metadata": {},
   "source": [
    "Change the numbers below and see the results."
   ]
  },
  {
   "cell_type": "code",
   "execution_count": 6,
   "metadata": {},
   "outputs": [
    {
     "name": "stdout",
     "output_type": "stream",
     "text": [
      "Result of division (single slash) : 65.0\n",
      "Result of division(double slash): 65\n",
      "Remainder after division : 4\n"
     ]
    }
   ],
   "source": [
    "# Division\n",
    "quotient = 130/2  \n",
    "print(\"Result of division (single slash) :\", quotient)\n",
    "\n",
    "double_slash = 130//2  \n",
    "print(\"Result of division(double slash):\", double_slash)\n",
    "\n",
    "# Mod \n",
    "remainder = 25%7\n",
    "print(\"Remainder after division :\", remainder)"
   ]
  },
  {
   "cell_type": "markdown",
   "metadata": {
    "colab_type": "text",
    "id": "4Ubiykr2-93H"
   },
   "source": [
    "## 1.4. Priority of Operators\n",
    "Python performs arithmetic calculations according to the following  priorities. For this reason, we need to use parentheses $()$ when we need to do an underlying operation first.\n",
    "\n",
    "1. Parenthesis <strong>()</strong> \n",
    "2. Power (Exponent) <strong>**</strong> \n",
    "3. Multiplication or division <strong>* /</strong>\n",
    "4. Add or subtract <strong> + - </strong> "
   ]
  },
  {
   "cell_type": "code",
   "execution_count": 7,
   "metadata": {},
   "outputs": [
    {
     "name": "stdout",
     "output_type": "stream",
     "text": [
      "3*(2+3) = 15\n",
      "3*2**3  = 24\n",
      "3*2+3   = 9\n"
     ]
    }
   ],
   "source": [
    "print (\"3*(2+3) =\"  , 3*(2+3))\n",
    "print (\"3*2**3  =\"  , 3*2**3)\n",
    "print (\"3*2+3   =\"  , 3*2+3)"
   ]
  },
  {
   "cell_type": "markdown",
   "metadata": {
    "colab_type": "text",
    "id": "fQ4MdOYP-93L"
   },
   "source": [
    "# 2. String \n",
    "\n",
    "Besides numbers, Python can also manipulate strings which can be expressed in several ways. They can be enclosed in single quotes ('...') or double quotes (\"...\") with the same result."
   ]
  },
  {
   "cell_type": "code",
   "execution_count": null,
   "metadata": {},
   "outputs": [],
   "source": [
    "word1 = 'orange'\n",
    "word2 = \"lemon\"\n",
    "print(word1, \" & \" , word2)"
   ]
  },
  {
   "cell_type": "markdown",
   "metadata": {},
   "source": [
    "If you need to use `'` or `\"` in a string, you can use `\\` as [escape character](https://docs.python.org/2.0/ref/strings.html). The quote after `\\` will be in the text. "
   ]
  },
  {
   "cell_type": "code",
   "execution_count": 1,
   "metadata": {},
   "outputs": [
    {
     "name": "stdout",
     "output_type": "stream",
     "text": [
      "I don't like orange\n"
     ]
    }
   ],
   "source": [
    "print('I don\\'t like orange')"
   ]
  },
  {
   "cell_type": "markdown",
   "metadata": {},
   "source": [
    "In the text above, we used `\\` character before the quote, so we could put a quote in the text. Another way is using double quote before and after the text. In this case we don't need to put a `\\` before the `'` character. "
   ]
  },
  {
   "cell_type": "code",
   "execution_count": 2,
   "metadata": {},
   "outputs": [
    {
     "name": "stdout",
     "output_type": "stream",
     "text": [
      "I don't like orange\n"
     ]
    }
   ],
   "source": [
    "print(\"I don't like orange\")"
   ]
  },
  {
   "cell_type": "code",
   "execution_count": null,
   "metadata": {},
   "outputs": [],
   "source": [
    "sentence = 'I don\\'t like orange'\n",
    "print(sentence)\n",
    "\n",
    "sentence = \"I don't like orange\"\n",
    "print(sentence)"
   ]
  },
  {
   "cell_type": "markdown",
   "metadata": {
    "colab_type": "text",
    "id": "tnvOkkM6-93W"
   },
   "source": [
    "**Square brackets [ ]** can be used to access elements of the string. Remember that the first character has the position 0.\n"
   ]
  },
  {
   "cell_type": "code",
   "execution_count": 8,
   "metadata": {},
   "outputs": [
    {
     "name": "stdout",
     "output_type": "stream",
     "text": [
      "Word                   :  orange\n",
      "First letter           :  o\n",
      "Second letter          :  r\n",
      "Letters from 3 to 5    :  ang\n",
      "Form 3 to last         :  ange\n"
     ]
    }
   ],
   "source": [
    "word = 'orange'\n",
    "print('Word                   : ' , word)\n",
    "print('First letter           : ' , word[0])\n",
    "print('Second letter          : ' , word[1])\n",
    "print(\"Letters from 3 to 5    : \" , word[2:5])\n",
    "print(\"Form 3 to last         : \" , word[2:])"
   ]
  },
  {
   "cell_type": "markdown",
   "metadata": {
    "colab_type": "text",
    "id": "b8CHkCJm-93e"
   },
   "source": [
    "To get the length of a string, we can use `len()` function."
   ]
  },
  {
   "cell_type": "code",
   "execution_count": 9,
   "metadata": {
    "colab": {
     "base_uri": "https://localhost:8080/",
     "height": 35
    },
    "colab_type": "code",
    "executionInfo": {
     "elapsed": 1550,
     "status": "ok",
     "timestamp": 1571561050399,
     "user": {
      "displayName": "Galip",
      "photoUrl": "",
      "userId": "08424181431520198416"
     },
     "user_tz": -180
    },
    "id": "QSWChiW6-93g",
    "outputId": "6539fc22-3979-4aaf-b09d-bea9094f7584"
   },
   "outputs": [
    {
     "name": "stdout",
     "output_type": "stream",
     "text": [
      "Length of word  orange  : 6\n"
     ]
    }
   ],
   "source": [
    "word1 = \"orange\"\n",
    "word2 = \"lemon\"\n",
    "print(\"Length of word \", word1 , ' :' , len(word1))"
   ]
  },
  {
   "cell_type": "markdown",
   "metadata": {
    "colab_type": "text",
    "id": "pcWzg282D0-o"
   },
   "source": [
    "To concatenate, or combine two strings, we can use the **+** operator."
   ]
  },
  {
   "cell_type": "code",
   "execution_count": 10,
   "metadata": {
    "colab": {
     "base_uri": "https://localhost:8080/",
     "height": 35
    },
    "colab_type": "code",
    "executionInfo": {
     "elapsed": 1533,
     "status": "ok",
     "timestamp": 1571561050400,
     "user": {
      "displayName": "Galip",
      "photoUrl": "",
      "userId": "08424181431520198416"
     },
     "user_tz": -180
    },
    "id": "C6hFExBtD7I_",
    "outputId": "084649fd-de1e-4f98-e28f-609ee67133e4"
   },
   "outputs": [
    {
     "name": "stdout",
     "output_type": "stream",
     "text": [
      "+ operator : orange & lemon\n"
     ]
    }
   ],
   "source": [
    "print(\"+ operator :\", word1 + \" & \" + word2)"
   ]
  },
  {
   "cell_type": "markdown",
   "metadata": {
    "colab_type": "text",
    "id": "vAoc99lBEUxK"
   },
   "source": [
    "Another way to combine string and variables we can use `.format()` method. The `format()` method takes the passed arguments, formats them, and places them in the string where the placeholders `{}` are. We can format the decimal value in the placeholders `{}` by specifying like `{:.3f}`,`{:.0f}`. If numbers are used in placeholders, they indicate the sequences of arguments."
   ]
  },
  {
   "cell_type": "code",
   "execution_count": null,
   "metadata": {},
   "outputs": [],
   "source": [
    "word = 'orange'\n",
    "print('Word                   : ' , word)\n",
    "print('First letter           : ' , word[0])\n",
    "print('Second letter          : ' , word[1])\n",
    "print(\"Letters from 3 to 5    : \" , word[2:5])\n",
    "print(\"Form 3 to last         : \" , word[2:])"
   ]
  },
  {
   "cell_type": "markdown",
   "metadata": {},
   "source": [
    "**Getting input from user :** `input()` function reads a line entered by keyboard, converts it into a string and returns it. You can use this input string in your python code."
   ]
  },
  {
   "cell_type": "code",
   "execution_count": 11,
   "metadata": {},
   "outputs": [
    {
     "name": "stdout",
     "output_type": "stream",
     "text": [
      "Your name ?  : omer\n",
      "Your age ?: 44\n",
      "Your name is omer and you are 44 years old.\n"
     ]
    }
   ],
   "source": [
    "name = input('Your name ?  : ')\n",
    "age = input('Your age ?: ') \n",
    "print (\"Your name is {} and you are {} years old.\".format(name,age))"
   ]
  },
  {
   "cell_type": "markdown",
   "metadata": {
    "colab_type": "text",
    "id": "eOY8gxLB-939"
   },
   "source": [
    "# 3. Boolean \n",
    "\n",
    "Booleans represent one of two values: `True` or `False`. "
   ]
  },
  {
   "cell_type": "code",
   "execution_count": 5,
   "metadata": {
    "colab": {},
    "colab_type": "code",
    "id": "2h2vB7Hr-93-"
   },
   "outputs": [],
   "source": [
    "Is_married = True\n",
    "Is_succesful = False"
   ]
  },
  {
   "cell_type": "markdown",
   "metadata": {
    "colab_type": "text",
    "id": "bZ46pLx_-94A"
   },
   "source": [
    "Booleans are the variables that the computer can easily understand and define as they are closer to how it deals with data in its circuitry. After all, it already works with logic 0-1, we can say that they like booleans. As you progress in your data science journey, you are going to find that we convert some values to booleans to compute effectively and efficiently."
   ]
  },
  {
   "cell_type": "markdown",
   "metadata": {
    "colab_type": "text",
    "id": "s9SbwfIc-94E"
   },
   "source": [
    "# 4. None <a id='none'></a>\n",
    "\n",
    "Sometimes we need to keep the values ​​of variables empty. For example, if we do not know the job information when recording a person's details, it should be defined as `None` instead of assigning any value.\n"
   ]
  },
  {
   "cell_type": "code",
   "execution_count": 1,
   "metadata": {},
   "outputs": [
    {
     "name": "stdout",
     "output_type": "stream",
     "text": [
      "None\n"
     ]
    }
   ],
   "source": [
    "Name = 'Alice'\n",
    "Surname = \"Brown\"\n",
    "Age  = 24\n",
    "Job = None\n",
    "\n",
    "print (Job)"
   ]
  },
  {
   "cell_type": "markdown",
   "metadata": {
    "colab_type": "text",
    "id": "GOlNbJyW-94U"
   },
   "source": [
    "# 5. Type conversion\n",
    "\n",
    "You can convert one data type to another with conversion functions. \n",
    "\n",
    "- `int()` : This function converts a float or a string that only contains numeric data into an integer.\n",
    "\n",
    "\n",
    "- `float()` : This function is used to convert an integer or string which only contains numeric data into a floating point number.\n",
    "\n",
    "\n",
    "- `str()` : This function is used to convert an integer or float data type into a string.\n",
    "\n",
    "When we do an arithmetic operation with different types of variables, we get errors. Therefore, we need to convert them into an appropriate type (i.e. int or float)."
   ]
  },
  {
   "cell_type": "code",
   "execution_count": 3,
   "metadata": {},
   "outputs": [
    {
     "name": "stdout",
     "output_type": "stream",
     "text": [
      "32\n",
      "40.5\n",
      "Apple42\n"
     ]
    }
   ],
   "source": [
    "a = 42\n",
    "b = \"10\"\n",
    "c = \"1.5\"\n",
    "d = \"Apple\"\n",
    "\n",
    "print(a-int(b))\n",
    "print(a-float(c))\n",
    "print(d+str(a))"
   ]
  },
  {
   "cell_type": "markdown",
   "metadata": {},
   "source": [
    "# Assignment"
   ]
  },
  {
   "cell_type": "markdown",
   "metadata": {},
   "source": [
    "Write your solutions and download your code as .py file. Then upload that file to your GitHub account and share the GitHub link by the button below.\n",
    "\n",
    "1. Suppose you invested in Bitcoin at the end of 2017 when Bitcoin gained a lot of value. What would be your money at the end of a week if you had invested \\$1000 with an average daily increase of 12\\% ? You can solve the problem using Python.\n",
    "\n",
    "        ##### Help\n",
    "\n",
    "        # Create a variable capital ($1000)\n",
    "\n",
    "        # Create a variable for daily growth (12%)\n",
    "\n",
    "        # Create a variable for period (7)\n",
    "\n",
    "        # Calculate the final growth rate\n",
    "\n",
    "        # Calculate result\n",
    "\n",
    "        # Print result\n",
    "        \n",
    "2. Print the text in quotes with Python. However, you must get the numbers from variables using `.format()` notation. <br> Because the text is long, you might consider writing in two lines:\n",
    "\n",
    "        `\"When we buy bitcoin with 1000 USD at the beginning of the week, we would earn 1210.68 USD at the end of the week, with an average gain of 12\\%.\"`\n",
    "\n",
    "3. Get the temperature in Fahrenheit from user and write a code to convert it to Celcius. For conversion, you can use this formula: C = (5/9) * (F - 32)\n",
    "\n",
    "        Enter the temperature in Fahrenheit: \n",
    "        user --> 26\n",
    "        output --> Temperature (C) : -3.33\n",
    "        \n",
    "4. Get a three digit number the from user and calculate the sum of the digits in the integer.\n",
    "\n",
    "        user --> 365\n",
    "        output --> \"The sum of digits in the number is 14\n",
    "\n",
    "5. Write some code to calculate the hypotenuse of a right angled triangle. Get the side lengths from the user.\n",
    "\n",
    "        user --> first side lenth : 6\n",
    "        user --> first side lenth : 8\n",
    "        output --> \"The length of the hypotenuse is 10"
   ]
  }
 ],
 "metadata": {
  "colab": {
   "collapsed_sections": [],
   "name": "2.PythonBasics.ipynb",
   "provenance": []
  },
  "kernelspec": {
   "display_name": "Python 3",
   "language": "python",
   "name": "python3"
  },
  "language_info": {
   "codemirror_mode": {
    "name": "ipython",
    "version": 3
   },
   "file_extension": ".py",
   "mimetype": "text/x-python",
   "name": "python",
   "nbconvert_exporter": "python",
   "pygments_lexer": "ipython3",
   "version": "3.6.7"
  },
  "latex_envs": {
   "LaTeX_envs_menu_present": true,
   "autoclose": false,
   "autocomplete": true,
   "bibliofile": "biblio.bib",
   "cite_by": "apalike",
   "current_citInitial": 1,
   "eqLabelWithNumbers": true,
   "eqNumInitial": 1,
   "hotkeys": {
    "equation": "Ctrl-E",
    "itemize": "Ctrl-I"
   },
   "labels_anchors": false,
   "latex_user_defs": false,
   "report_style_numbering": false,
   "user_envs_cfg": false
  },
  "varInspector": {
   "cols": {
    "lenName": 16,
    "lenType": 16,
    "lenVar": 40
   },
   "kernels_config": {
    "python": {
     "delete_cmd_postfix": "",
     "delete_cmd_prefix": "del ",
     "library": "var_list.py",
     "varRefreshCmd": "print(var_dic_list())"
    },
    "r": {
     "delete_cmd_postfix": ") ",
     "delete_cmd_prefix": "rm(",
     "library": "var_list.r",
     "varRefreshCmd": "cat(var_dic_list()) "
    }
   },
   "types_to_exclude": [
    "module",
    "function",
    "builtin_function_or_method",
    "instance",
    "_Feature"
   ],
   "window_display": false
  }
 },
 "nbformat": 4,
 "nbformat_minor": 4
}
