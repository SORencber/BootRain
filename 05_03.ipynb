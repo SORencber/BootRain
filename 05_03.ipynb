{
  "nbformat": 4,
  "nbformat_minor": 0,
  "metadata": {
    "colab": {
      "name": "05_03.ipynb",
      "provenance": [],
      "collapsed_sections": []
    },
    "kernelspec": {
      "name": "python3",
      "display_name": "Python 3"
    }
  },
  "cells": [
    {
      "cell_type": "code",
      "metadata": {
        "id": "1Kd9mXmuc5qp",
        "colab_type": "code",
        "colab": {
          "base_uri": "https://localhost:8080/",
          "height": 264
        },
        "outputId": "eb1717ce-3dbd-437f-8a16-42f23f5f4d77"
      },
      "source": [
        "import numpy as np\n",
        "\n",
        "from scipy import stats\n",
        "import matplotlib.pyplot as plt\n",
        "distribution=np.random.normal(500,100,1000)\n",
        "\n",
        "plt.hist(distribution)\n",
        "plt.show()\n"
      ],
      "execution_count": 2,
      "outputs": [
        {
          "output_type": "display_data",
          "data": {
            "image/png": "[encoded data removed]",
            "text/plain": [
              "<Figure size 432x288 with 1 Axes>"
            ]
          },
          "metadata": {
            "tags": [],
            "needs_background": "light"
          }
        }
      ]
    },
    {
      "cell_type": "markdown",
      "metadata": {
        "id": "q6IBMLrEdMTA",
        "colab_type": "text"
      },
      "source": [
        "`According to the Histogram this Data is normal distribution.`"
      ]
    },
    {
      "cell_type": "code",
      "metadata": {
        "id": "Hiw2GKp8dO5g",
        "colab_type": "code",
        "colab": {
          "base_uri": "https://localhost:8080/",
          "height": 294
        },
        "outputId": "7fccd00d-e044-447a-c49f-9a4ffec5c331"
      },
      "source": [
        "distribution.sort()\n",
        "res=stats.probplot(distribution,plot=plt)\n",
        "plt.title(\"Q-Q plot\")\n",
        "plt.xlabel(\"Theoretical Values\")\n",
        "plt.ylabel(\"Sample Data\")\n",
        "plt.show()"
      ],
      "execution_count": 3,
      "outputs": [
        {
          "output_type": "display_data",
          "data": {
            "image/png": "[encoded data removed]",
            "text/plain": [
              "<Figure size 432x288 with 1 Axes>"
            ]
          },
          "metadata": {
            "tags": [],
            "needs_background": "light"
          }
        }
      ]
    },
    {
      "cell_type": "markdown",
      "metadata": {
        "id": "UojrELgIdbPa",
        "colab_type": "text"
      },
      "source": [
        "According to the Q-Q plot this Data `is` normal distribution."
      ]
    },
    {
      "cell_type": "code",
      "metadata": {
        "id": "LmLyzm2BeoZR",
        "colab_type": "code",
        "colab": {
          "base_uri": "https://localhost:8080/",
          "height": 244
        },
        "outputId": "43d2b66a-fa03-4c06-838a-134f2c8ea3d7"
      },
      "source": [
        "from pandas_datareader import data as pdr\n",
        "import matplotlib.pyplot as plt\n",
        "\n",
        "import datetime \n",
        "import yfinance as yf\n",
        "yf.pdr_override()\n",
        "import pandas as pd\n",
        "import warnings\n",
        "warnings.filterwarnings(\"ignore\")\n",
        "plt.style.use('seaborn')\n",
        "start_date=datetime.datetime(2015,1,1)\n",
        "end_date=datetime.datetime(2018,1,1)\n",
        "files=[]\n",
        "data = pdr.get_data_yahoo('GOOG', start=start_date, end=end_date)\n",
        "data.head()\n",
        "  "
      ],
      "execution_count": 24,
      "outputs": [
        {
          "output_type": "stream",
          "text": [
            "\r[*********************100%***********************]  1 of 1 completed\n"
          ],
          "name": "stdout"
        },
        {
          "output_type": "execute_result",
          "data": {
            "text/html": [
              "<div>\n",
              "<style scoped>\n",
              "    .dataframe tbody tr th:only-of-type {\n",
              "        vertical-align: middle;\n",
              "    }\n",
              "\n",
              "    .dataframe tbody tr th {\n",
              "        vertical-align: top;\n",
              "    }\n",
              "\n",
              "    .dataframe thead th {\n",
              "        text-align: right;\n",
              "    }\n",
              "</style>\n",
              "<table border=\"1\" class=\"dataframe\">\n",
              "  <thead>\n",
              "    <tr style=\"text-align: right;\">\n",
              "      <th></th>\n",
              "      <th>Open</th>\n",
              "      <th>High</th>\n",
              "      <th>Low</th>\n",
              "      <th>Close</th>\n",
              "      <th>Adj Close</th>\n",
              "      <th>Volume</th>\n",
              "    </tr>\n",
              "    <tr>\n",
              "      <th>Date</th>\n",
              "      <th></th>\n",
              "      <th></th>\n",
              "      <th></th>\n",
              "      <th></th>\n",
              "      <th></th>\n",
              "      <th></th>\n",
              "    </tr>\n",
              "  </thead>\n",
              "  <tbody>\n",
              "    <tr>\n",
              "      <th>2015-01-02</th>\n",
              "      <td>527.561584</td>\n",
              "      <td>529.815369</td>\n",
              "      <td>522.665039</td>\n",
              "      <td>523.373108</td>\n",
              "      <td>523.373108</td>\n",
              "      <td>1447500</td>\n",
              "    </tr>\n",
              "    <tr>\n",
              "      <th>2015-01-05</th>\n",
              "      <td>521.827332</td>\n",
              "      <td>522.894409</td>\n",
              "      <td>511.655243</td>\n",
              "      <td>512.463013</td>\n",
              "      <td>512.463013</td>\n",
              "      <td>2059800</td>\n",
              "    </tr>\n",
              "    <tr>\n",
              "      <th>2015-01-06</th>\n",
              "      <td>513.589966</td>\n",
              "      <td>514.761719</td>\n",
              "      <td>499.678131</td>\n",
              "      <td>500.585632</td>\n",
              "      <td>500.585632</td>\n",
              "      <td>2899900</td>\n",
              "    </tr>\n",
              "    <tr>\n",
              "      <th>2015-01-07</th>\n",
              "      <td>505.611847</td>\n",
              "      <td>505.855164</td>\n",
              "      <td>498.281952</td>\n",
              "      <td>499.727997</td>\n",
              "      <td>499.727997</td>\n",
              "      <td>2065000</td>\n",
              "    </tr>\n",
              "    <tr>\n",
              "      <th>2015-01-08</th>\n",
              "      <td>496.626526</td>\n",
              "      <td>502.101471</td>\n",
              "      <td>489.655640</td>\n",
              "      <td>501.303680</td>\n",
              "      <td>501.303680</td>\n",
              "      <td>3353500</td>\n",
              "    </tr>\n",
              "  </tbody>\n",
              "</table>\n",
              "</div>"
            ],
            "text/plain": [
              "                  Open        High         Low       Close   Adj Close   Volume\n",
              "Date                                                                           \n",
              "2015-01-02  527.561584  529.815369  522.665039  523.373108  523.373108  1447500\n",
              "2015-01-05  521.827332  522.894409  511.655243  512.463013  512.463013  2059800\n",
              "2015-01-06  513.589966  514.761719  499.678131  500.585632  500.585632  2899900\n",
              "2015-01-07  505.611847  505.855164  498.281952  499.727997  499.727997  2065000\n",
              "2015-01-08  496.626526  502.101471  489.655640  501.303680  501.303680  3353500"
            ]
          },
          "metadata": {
            "tags": []
          },
          "execution_count": 24
        }
      ]
    },
    {
      "cell_type": "code",
      "metadata": {
        "id": "CsuOrvDdfBUE",
        "colab_type": "code",
        "colab": {
          "base_uri": "https://localhost:8080/",
          "height": 233
        },
        "outputId": "0447190e-603a-49b2-e7b4-8161d3a476a8"
      },
      "source": [
        "data_return=data.Close\n",
        "data_return=data_return.pct_change()\n",
        "data_return=data_return.dropna()\n",
        "data_return"
      ],
      "execution_count": 81,
      "outputs": [
        {
          "output_type": "execute_result",
          "data": {
            "text/plain": [
              "Date\n",
              "2015-01-05   -0.020846\n",
              "2015-01-06   -0.023177\n",
              "2015-01-07   -0.001713\n",
              "2015-01-08    0.003153\n",
              "2015-01-09   -0.012951\n",
              "                ...   \n",
              "2017-12-22   -0.003300\n",
              "2017-12-26   -0.003188\n",
              "2017-12-27   -0.006974\n",
              "2017-12-28   -0.001172\n",
              "2017-12-29   -0.001660\n",
              "Name: Close, Length: 754, dtype: float64"
            ]
          },
          "metadata": {
            "tags": []
          },
          "execution_count": 81
        }
      ]
    },
    {
      "cell_type": "code",
      "metadata": {
        "id": "pK1O23mtssVc",
        "colab_type": "code",
        "colab": {
          "base_uri": "https://localhost:8080/",
          "height": 346
        },
        "outputId": "75cfeaa4-da6d-4b43-fe5a-f8ac49630e31"
      },
      "source": [
        "plt.hist(data_return)\n",
        "plt.show()"
      ],
      "execution_count": 82,
      "outputs": [
        {
          "output_type": "display_data",
          "data": {
            "image/png": "[encoded data removed]",
            "text/plain": [
              "<Figure size 576x396 with 1 Axes>"
            ]
          },
          "metadata": {
            "tags": []
          }
        }
      ]
    },
    {
      "cell_type": "code",
      "metadata": {
        "id": "2_6ENZL_syO6",
        "colab_type": "code",
        "colab": {
          "base_uri": "https://localhost:8080/",
          "height": 361
        },
        "outputId": "b98e3f20-9f67-4a2f-febb-38afddd1c12c"
      },
      "source": [
        "plt.plot(data_return)\n",
        "plt.xlabel(\"Date\")\n",
        "plt.ylabel(\"$\")\n",
        "plt.show()"
      ],
      "execution_count": 83,
      "outputs": [
        {
          "output_type": "display_data",
          "data": {
            "image/png": "[encoded data removed]",
            "text/plain": [
              "<Figure size 576x396 with 1 Axes>"
            ]
          },
          "metadata": {
            "tags": []
          }
        }
      ]
    },
    {
      "cell_type": "code",
      "metadata": {
        "id": "xFQb12fMfEBp",
        "colab_type": "code",
        "colab": {
          "base_uri": "https://localhost:8080/",
          "height": 33
        },
        "outputId": "0773128f-bd72-4783-8e5f-a12c85a9a8cc"
      },
      "source": [
        "from scipy import stats\n",
        "k2,p=stats.normaltest(data_return)\n",
        "print(\"k2 is {} and p : {}\".format(k2,p))"
      ],
      "execution_count": 86,
      "outputs": [
        {
          "output_type": "stream",
          "text": [
            "k2 is 464.20807343896325 and p : 1.5794199713796967e-101\n"
          ],
          "name": "stdout"
        }
      ]
    },
    {
      "cell_type": "markdown",
      "metadata": {
        "id": "4mPC1VWxuGZI",
        "colab_type": "text"
      },
      "source": [
        "P value < 0.05. So this data has not got normal distribution."
      ]
    }
  ]
}