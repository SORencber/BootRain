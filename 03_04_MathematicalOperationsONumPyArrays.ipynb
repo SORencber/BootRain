{
 "cells": [
  {
   "cell_type": "markdown",
   "metadata": {},
   "source": [
    "# <font color=blue>Assignments for \"Mathematical Operations on NumPy Arrays\"</font>"
   ]
  },
  {
   "cell_type": "markdown",
   "metadata": {},
   "source": [
    "1. Load the array you saved in the previous lesson from the disk."
   ]
  },
  {
   "cell_type": "code",
   "execution_count": 9,
   "metadata": {},
   "outputs": [
    {
     "data": {
      "text/plain": [
       "array([[0.000e+00, 0.000e+00, 0.000e+00, ..., 4.000e+00, 7.000e+00,\n",
       "        0.000e+00],\n",
       "       [1.000e+00, 0.000e+00, 0.000e+00, ..., 4.100e+00, 7.000e+00,\n",
       "        0.000e+00],\n",
       "       [2.000e+00, 0.000e+00, 0.000e+00, ..., 4.400e+00, 7.000e+00,\n",
       "        0.000e+00],\n",
       "       ...,\n",
       "       [6.571e+03, 4.000e+00, 0.000e+00, ..., 4.800e+00, 2.000e+00,\n",
       "        0.000e+00],\n",
       "       [6.572e+03, 3.000e+00, 0.000e+00, ..., 5.200e+00, 2.000e+00,\n",
       "        0.000e+00],\n",
       "       [6.573e+03, 2.000e+00, 0.000e+00, ..., 4.400e+00, 2.000e+00,\n",
       "        0.000e+00]])"
      ]
     },
     "execution_count": 9,
     "metadata": {},
     "output_type": "execute_result"
    }
   ],
   "source": [
    "import numpy as np\n",
    "arr = np.load(\"final.npy\")\n",
    "arr"
   ]
  },
  {
   "cell_type": "markdown",
   "metadata": {},
   "source": [
    "2. Display the mean and the standard deviation for each column."
   ]
  },
  {
   "cell_type": "code",
   "execution_count": 10,
   "metadata": {},
   "outputs": [
    {
     "data": {
      "text/plain": [
       "array([3.28650000e+03, 5.49950198e+03, 0.00000000e+00, 8.86826894e-02,\n",
       "       0.00000000e+00, 3.84616969e+01, 3.30841796e+01, 2.49830271e+01,\n",
       "       0.00000000e+00, 1.01451171e+01, 0.00000000e+00, 0.00000000e+00,\n",
       "       4.46759963e+00, 6.77654396e+00, 0.00000000e+00])"
      ]
     },
     "execution_count": 10,
     "metadata": {},
     "output_type": "execute_result"
    }
   ],
   "source": [
    "np.mean(arr,axis = 0)\n"
   ]
  },
  {
   "cell_type": "code",
   "execution_count": 11,
   "metadata": {},
   "outputs": [
    {
     "data": {
      "text/plain": [
       "array([1.89775031e+03, 3.97651842e+03, 0.00000000e+00, 4.06686207e-01,\n",
       "       0.00000000e+00, 1.63396498e+00, 6.28004726e+00, 2.77566002e+01,\n",
       "       0.00000000e+00, 1.27978334e+01, 0.00000000e+00, 0.00000000e+00,\n",
       "       4.85681616e-01, 5.41160601e+00, 0.00000000e+00])"
      ]
     },
     "execution_count": 11,
     "metadata": {},
     "output_type": "execute_result"
    }
   ],
   "source": [
    "np.std(arr,axis = 0)"
   ]
  },
  {
   "cell_type": "markdown",
   "metadata": {},
   "source": [
    "3. Subtract 1, 25, 25, 10, 4 from columns in order. (Remember it can be subtracted in one line of code.)"
   ]
  },
  {
   "cell_type": "code",
   "execution_count": 20,
   "metadata": {},
   "outputs": [
    {
     "data": {
      "text/plain": [
       "array([[-195. , -195. , -195. , ..., -191. , -188. , -195. ],\n",
       "       [-194. , -195. , -195. , ..., -190.9, -188. , -195. ],\n",
       "       [-193. , -195. , -195. , ..., -190.6, -188. , -195. ],\n",
       "       ...,\n",
       "       [6376. , -191. , -195. , ..., -190.2, -193. , -195. ],\n",
       "       [6377. , -192. , -195. , ..., -189.8, -193. , -195. ],\n",
       "       [6378. , -193. , -195. , ..., -190.6, -193. , -195. ]])"
      ]
     },
     "execution_count": 20,
     "metadata": {},
     "output_type": "execute_result"
    }
   ],
   "source": [
    "arr[:]-=1\n",
    "arr[:]-=25\n",
    "arr[:]-=25\n",
    "arr[:]-=10\n",
    "arr[:]-=4\n",
    "\n",
    "arr"
   ]
  },
  {
   "cell_type": "markdown",
   "metadata": {},
   "source": [
    "4. Multiply each element by 2. (Remember it can be multiplied in one line of code.)"
   ]
  },
  {
   "cell_type": "code",
   "execution_count": 22,
   "metadata": {},
   "outputs": [],
   "source": [
    "arr[:]*=2"
   ]
  },
  {
   "cell_type": "code",
   "execution_count": 23,
   "metadata": {},
   "outputs": [
    {
     "data": {
      "text/plain": [
       "array([[ -390. ,  -390. ,  -390. , ...,  -382. ,  -376. ,  -390. ],\n",
       "       [ -388. ,  -390. ,  -390. , ...,  -381.8,  -376. ,  -390. ],\n",
       "       [ -386. ,  -390. ,  -390. , ...,  -381.2,  -376. ,  -390. ],\n",
       "       ...,\n",
       "       [12752. ,  -382. ,  -390. , ...,  -380.4,  -386. ,  -390. ],\n",
       "       [12754. ,  -384. ,  -390. , ...,  -379.6,  -386. ,  -390. ],\n",
       "       [12756. ,  -386. ,  -390. , ...,  -381.2,  -386. ,  -390. ]])"
      ]
     },
     "execution_count": 23,
     "metadata": {},
     "output_type": "execute_result"
    }
   ],
   "source": [
    "arr"
   ]
  }
 ],
 "metadata": {
  "kernelspec": {
   "display_name": "Python 3",
   "language": "python",
   "name": "python3"
  },
  "language_info": {
   "codemirror_mode": {
    "name": "ipython",
    "version": 3
   },
   "file_extension": ".py",
   "mimetype": "text/x-python",
   "name": "python",
   "nbconvert_exporter": "python",
   "pygments_lexer": "ipython3",
   "version": "3.7.1"
  }
 },
 "nbformat": 4,
 "nbformat_minor": 4
}
