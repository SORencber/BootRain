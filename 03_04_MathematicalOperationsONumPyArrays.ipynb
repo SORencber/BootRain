{
 "cells": [
  {
   "cell_type": "markdown",
   "metadata": {},
   "source": [
    "# <font color=blue>Assignments for \"Mathematical Operations on NumPy Arrays\"</font>"
   ]
  },
  {
   "cell_type": "markdown",
   "metadata": {},
   "source": [
    "1. Load the array you saved in the previous lesson from the disk."
   ]
  },
  {
   "cell_type": "code",
   "execution_count": 45,
   "metadata": {},
   "outputs": [
    {
     "data": {
      "text/plain": [
       "array([[ 0.    , 36.8578, 44.4161, 16.97  ,  4.    ],\n",
       "       [ 0.    , 37.4341, 35.852 ,  7.02  ,  4.1   ],\n",
       "       [ 0.    , 37.6878, 37.4016, 10.27  ,  4.4   ],\n",
       "       [ 0.    , 37.2003, 30.4376, 78.07  ,  4.    ],\n",
       "       [ 0.    , 35.6846, 26.7266, 42.77  ,  4.5   ],\n",
       "       [ 0.    , 36.4171, 28.6991, 14.86  ,  4.1   ],\n",
       "       [ 0.    , 36.0535, 31.2135, 36.68  ,  5.2   ],\n",
       "       [ 0.    , 37.1958, 30.6241, 50.33  ,  4.8   ],\n",
       "       [ 0.    , 36.9653, 27.7633,  6.93  ,  4.3   ],\n",
       "       [ 0.    , 38.893 , 26.4483, 11.62  ,  4.2   ],\n",
       "       [ 0.    , 37.3773, 36.3855, 10.53  ,  4.8   ],\n",
       "       [ 0.    , 35.8861, 26.0695, 28.49  ,  4.9   ],\n",
       "       [ 0.    , 37.4635, 36.3113, 15.29  ,  4.3   ],\n",
       "       [ 0.    , 37.0201, 36.0845, 10.    ,  4.1   ],\n",
       "       [ 0.    , 37.6546, 26.6698,  4.5   ,  4.5   ],\n",
       "       [ 0.    , 37.5318, 29.848 , 17.58  ,  4.6   ],\n",
       "       [ 0.    , 39.0388, 44.1533,  7.52  ,  4.5   ],\n",
       "       [ 0.    , 38.357 , 44.8686, 10.05  ,  4.1   ],\n",
       "       [ 0.    , 35.7018, 28.1495,  6.25  ,  4.1   ],\n",
       "       [ 0.    , 37.6883, 37.3968, 10.63  ,  4.1   ]])"
      ]
     },
     "execution_count": 45,
     "metadata": {},
     "output_type": "execute_result"
    }
   ],
   "source": [
    "import numpy as np\n",
    "arr = np.load(\"final.npy\")\n",
    "arr\n"
   ]
  },
  {
   "cell_type": "markdown",
   "metadata": {},
   "source": [
    "2. Display the mean and the standard deviation for each column."
   ]
  },
  {
   "cell_type": "code",
   "execution_count": 39,
   "metadata": {},
   "outputs": [
    {
     "data": {
      "text/plain": [
       "array([ 0.     , 37.20543, 33.27595, 19.818  ,  4.38   ])"
      ]
     },
     "execution_count": 39,
     "metadata": {},
     "output_type": "execute_result"
    }
   ],
   "source": [
    "np.mean(arr,axis = 0)\n"
   ]
  },
  {
   "cell_type": "code",
   "execution_count": 40,
   "metadata": {},
   "outputs": [
    {
     "data": {
      "text/plain": [
       "array([ 0.        ,  0.92015317,  6.07459305, 18.28870351,  0.33105891])"
      ]
     },
     "execution_count": 40,
     "metadata": {},
     "output_type": "execute_result"
    }
   ],
   "source": [
    "np.std(arr,axis = 0)"
   ]
  },
  {
   "cell_type": "markdown",
   "metadata": {},
   "source": [
    "3. Subtract 1, 25, 25, 10, 4 from columns in order. (Remember it can be subtracted in one line of code.)"
   ]
  },
  {
   "cell_type": "code",
   "execution_count": 57,
   "metadata": {},
   "outputs": [
    {
     "data": {
      "text/plain": [
       "array([[ -1.    ,  48.7156,  63.8322,  23.94  ,   4.    ],\n",
       "       [ -1.    ,  49.8682,  46.704 ,   4.04  ,   4.2   ],\n",
       "       [ -1.    ,  50.3756,  49.8032,  10.54  ,   4.8   ],\n",
       "       [ -1.    ,  49.4006,  35.8752, 146.14  ,   4.    ],\n",
       "       [ -1.    ,  46.3692,  28.4532,  75.54  ,   5.    ],\n",
       "       [ -1.    ,  47.8342,  32.3982,  19.72  ,   4.2   ],\n",
       "       [ -1.    ,  47.107 ,  37.427 ,  63.36  ,   6.4   ],\n",
       "       [ -1.    ,  49.3916,  36.2482,  90.66  ,   5.6   ],\n",
       "       [ -1.    ,  48.9306,  30.5266,   3.86  ,   4.6   ],\n",
       "       [ -1.    ,  52.786 ,  27.8966,  13.24  ,   4.4   ],\n",
       "       [ -1.    ,  49.7546,  47.771 ,  11.06  ,   5.6   ],\n",
       "       [ -1.    ,  46.7722,  27.139 ,  46.98  ,   5.8   ],\n",
       "       [ -1.    ,  49.927 ,  47.6226,  20.58  ,   4.6   ],\n",
       "       [ -1.    ,  49.0402,  47.169 ,  10.    ,   4.2   ],\n",
       "       [ -1.    ,  50.3092,  28.3396,  -1.    ,   5.    ],\n",
       "       [ -1.    ,  50.0636,  34.696 ,  25.16  ,   5.2   ],\n",
       "       [ -1.    ,  53.0776,  63.3066,   5.04  ,   5.    ],\n",
       "       [ -1.    ,  51.714 ,  64.7372,  10.1   ,   4.2   ],\n",
       "       [ -1.    ,  46.4036,  31.299 ,   2.5   ,   4.2   ],\n",
       "       [ -1.    ,  50.3766,  49.7936,  11.26  ,   4.2   ]])"
      ]
     },
     "execution_count": 57,
     "metadata": {},
     "output_type": "execute_result"
    }
   ],
   "source": [
    "b=arr-[1,25,25,10,4]\n",
    "b"
   ]
  },
  {
   "cell_type": "markdown",
   "metadata": {},
   "source": [
    "4. Multiply each element by 2. (Remember it can be multiplied in one line of code.)"
   ]
  },
  {
   "cell_type": "code",
   "execution_count": 49,
   "metadata": {},
   "outputs": [],
   "source": [
    "arr[:]*=2"
   ]
  },
  {
   "cell_type": "code",
   "execution_count": 50,
   "metadata": {},
   "outputs": [
    {
     "data": {
      "text/plain": [
       "array([[  0.    ,  73.7156,  88.8322,  33.94  ,   8.    ],\n",
       "       [  0.    ,  74.8682,  71.704 ,  14.04  ,   8.2   ],\n",
       "       [  0.    ,  75.3756,  74.8032,  20.54  ,   8.8   ],\n",
       "       [  0.    ,  74.4006,  60.8752, 156.14  ,   8.    ],\n",
       "       [  0.    ,  71.3692,  53.4532,  85.54  ,   9.    ],\n",
       "       [  0.    ,  72.8342,  57.3982,  29.72  ,   8.2   ],\n",
       "       [  0.    ,  72.107 ,  62.427 ,  73.36  ,  10.4   ],\n",
       "       [  0.    ,  74.3916,  61.2482, 100.66  ,   9.6   ],\n",
       "       [  0.    ,  73.9306,  55.5266,  13.86  ,   8.6   ],\n",
       "       [  0.    ,  77.786 ,  52.8966,  23.24  ,   8.4   ],\n",
       "       [  0.    ,  74.7546,  72.771 ,  21.06  ,   9.6   ],\n",
       "       [  0.    ,  71.7722,  52.139 ,  56.98  ,   9.8   ],\n",
       "       [  0.    ,  74.927 ,  72.6226,  30.58  ,   8.6   ],\n",
       "       [  0.    ,  74.0402,  72.169 ,  20.    ,   8.2   ],\n",
       "       [  0.    ,  75.3092,  53.3396,   9.    ,   9.    ],\n",
       "       [  0.    ,  75.0636,  59.696 ,  35.16  ,   9.2   ],\n",
       "       [  0.    ,  78.0776,  88.3066,  15.04  ,   9.    ],\n",
       "       [  0.    ,  76.714 ,  89.7372,  20.1   ,   8.2   ],\n",
       "       [  0.    ,  71.4036,  56.299 ,  12.5   ,   8.2   ],\n",
       "       [  0.    ,  75.3766,  74.7936,  21.26  ,   8.2   ]])"
      ]
     },
     "execution_count": 50,
     "metadata": {},
     "output_type": "execute_result"
    }
   ],
   "source": [
    "arr"
   ]
  },
  {
   "cell_type": "code",
   "execution_count": null,
   "metadata": {},
   "outputs": [],
   "source": []
  }
 ],
 "metadata": {
  "kernelspec": {
   "display_name": "Python 3",
   "language": "python",
   "name": "python3"
  },
  "language_info": {
   "codemirror_mode": {
    "name": "ipython",
    "version": 3
   },
   "file_extension": ".py",
   "mimetype": "text/x-python",
   "name": "python",
   "nbconvert_exporter": "python",
   "pygments_lexer": "ipython3",
   "version": "3.7.1"
  }
 },
 "nbformat": 4,
 "nbformat_minor": 4
}
