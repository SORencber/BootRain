{
 "cells": [
  {
   "cell_type": "markdown",
   "metadata": {},
   "source": [
    "## ASSIGNMENT 1\n",
    "In the following assignments, you need to write your codes in Trinket. Once you are done with the solutions, download your code as a Python file (a file that ends with .py extension). Then, upload that file to your GitHub account and share the GitHub link with us by hitting the button below.\n",
    "\n"
   ]
  },
  {
   "cell_type": "markdown",
   "metadata": {},
   "source": [
    "1.Write a code that outputs your name and surname in one line.\n"
   ]
  },
  {
   "cell_type": "code",
   "execution_count": 28,
   "metadata": {},
   "outputs": [
    {
     "name": "stdout",
     "output_type": "stream",
     "text": [
      "SerhAT öMER rencber\n"
     ]
    }
   ],
   "source": [
    "print(\"SerhAT öMER rencber\")"
   ]
  },
  {
   "cell_type": "markdown",
   "metadata": {},
   "source": [
    "2.Write a 1-line code that outputs your name and surname in two separate lines by using a single print() call.\n"
   ]
  },
  {
   "cell_type": "code",
   "execution_count": 29,
   "metadata": {},
   "outputs": [
    {
     "name": "stdout",
     "output_type": "stream",
     "text": [
      "Serhat Omer Rencber\n"
     ]
    }
   ],
   "source": [
    "print(\"Serhat Omer \\\n",
    "Rencber\")"
   ]
  },
  {
   "cell_type": "markdown",
   "metadata": {},
   "source": [
    "Use print() function that returns the following text. Notice the quotes in the text. Those quotes should be seen in the output!:\n",
    " `I don't want to be an \"artist\". I want to be a \"Data Scientist.\"`"
   ]
  },
  {
   "cell_type": "code",
   "execution_count": 31,
   "metadata": {},
   "outputs": [
    {
     "name": "stdout",
     "output_type": "stream",
     "text": [
      "I don't want to be an \"artist\". I want to be a \"Data Scientist.\"\n"
     ]
    }
   ],
   "source": [
    "print(\"I don't want to be an \\\"artist\\\". I want to be a \\\"Data Scientist.\\\"\")"
   ]
  },
  {
   "cell_type": "markdown",
   "metadata": {},
   "source": [
    "## ASSIGNMENT 2\n",
    "\n",
    "1.Suppose you invested in Bitcoin at the end of 2017 when Bitcoin gained a lot of value. What would be your money at the end of a week if you had invested $1000 with an average daily increase of 12\\% ? You can solve the problem using Python.\n",
    "\n",
    "\n",
    "  Create a variable capital ($1000)\n",
    "\n",
    "  Create a variable for daily growth (12%)\n",
    "\n",
    "  Create a variable for period (7)\n",
    "\n",
    "  Calculate the final growth rate\n",
    "\n",
    "  Calculate result\n",
    "\n",
    "  Print result"
   ]
  },
  {
   "cell_type": "code",
   "execution_count": 22,
   "metadata": {},
   "outputs": [
    {
     "name": "stdout",
     "output_type": "stream",
     "text": [
      "1 .th day: 1120.0\n",
      "2 .th day: 1254.4\n",
      "3 .th day: 1404.928\n",
      "4 .th day: 1573.5193600000002\n",
      "5 .th day: 1762.3416832000003\n",
      "6 .th day: 1973.8226851840002\n",
      "7 .th day: 2210.6814074060803\n"
     ]
    }
   ],
   "source": [
    "Investment=1000\n",
    "Percentage_Increase=0.12\n",
    "for a in range(1,8):\n",
    "    Calculate= Investment*Percentage_Increase\n",
    "    Investment=Investment+Calculate\n",
    "    print(a,\".th day:\", Investment)"
   ]
  },
  {
   "cell_type": "markdown",
   "metadata": {},
   "source": [
    "2.Print the text in quotes with Python. However, you must get the numbers from variables using .format() notation.\n",
    "Because the text is long, you might consider writing in two lines:\n",
    "\n",
    " `\"When we buy bitcoin with 1000 USD at the beginning of the week, we would earn 1210.68 USD at the end of the week, with an average gain of 12\\%.\"`"
   ]
  },
  {
   "cell_type": "code",
   "execution_count": 36,
   "metadata": {},
   "outputs": [
    {
     "name": "stdout",
     "output_type": "stream",
     "text": [
      "When we buy bitcoin with 1000 USD at the 1 . day of the week, we would earn 1120.0 at the end of the week, with an average gain of %12.\n",
      "When we buy bitcoin with 1000 USD at the 2 . day of the week, we would earn 1254.4 at the end of the week, with an average gain of %12.\n",
      "When we buy bitcoin with 1000 USD at the 3 . day of the week, we would earn 1404.928 at the end of the week, with an average gain of %12.\n",
      "When we buy bitcoin with 1000 USD at the 4 . day of the week, we would earn 1573.5193600000002 at the end of the week, with an average gain of %12.\n",
      "When we buy bitcoin with 1000 USD at the 5 . day of the week, we would earn 1762.3416832000003 at the end of the week, with an average gain of %12.\n",
      "When we buy bitcoin with 1000 USD at the 6 . day of the week, we would earn 1973.8226851840002 at the end of the week, with an average gain of %12.\n",
      "When we buy bitcoin with 1000 USD at the 7 . day of the week, we would earn 2210.6814074060803 at the end of the week, with an average gain of %12.\n"
     ]
    }
   ],
   "source": [
    "Investment=1000\n",
    "Percentage_Increase=0.12\n",
    "for a in range(1,8):\n",
    "    Calculate= Investment*Percentage_Increase\n",
    "    Investment=Investment+Calculate\n",
    "    txt=\"When we buy bitcoin with 1000 USD at the {} . day of the week, we would earn {} at the end of the week, with an average gain of {}.\"\n",
    "    print(txt.format(a,Investment,\"%12\"))"
   ]
  },
  {
   "cell_type": "markdown",
   "metadata": {},
   "source": [
    "3. Get the temperature in Fahrenheit from user and write a code to convert it to Celcius. For conversion, you can use this formula: C = (5/9) * (F - 32)\n"
   ]
  },
  {
   "cell_type": "code",
   "execution_count": 2,
   "metadata": {},
   "outputs": [
    {
     "name": "stdout",
     "output_type": "stream",
     "text": [
      "Enter the temperature in Fahrenheit:56\n",
      "user --> 56\n",
      "output --> Temperature (C) : 13.333333333333334\n"
     ]
    }
   ],
   "source": [
    "Fahrenheit=int(input(\"Enter the temperature in Fahrenheit:\"))\n",
    "C = (5/9)*(Fahrenheit - 32)\n",
    "print(\"user -->\", Fahrenheit)\n",
    "print(\"output --> Temperature (C) :\" ,C)"
   ]
  },
  {
   "cell_type": "markdown",
   "metadata": {},
   "source": [
    "4. Get a three digit number the from user and calculate the sum of the digits in the integer.\n",
    "\n",
    " user --> 365\n",
    " output --> \"The sum of digits in the number is 14"
   ]
  },
  {
   "cell_type": "code",
   "execution_count": 1,
   "metadata": {},
   "outputs": [
    {
     "name": "stdout",
     "output_type": "stream",
     "text": [
      "Enter 3 digit number:456\n",
      "user--> 456\n",
      "output --> The sum of digits in the number is 15\n"
     ]
    }
   ],
   "source": [
    "Number=input(\"Enter 3 digit number:\")\n",
    "top=0\n",
    "for a in Number:\n",
    "    top=top+int(a)\n",
    "print(\"user-->\",Number)\n",
    "print(\"output --> The sum of digits in the number is\",top)"
   ]
  },
  {
   "cell_type": "markdown",
   "metadata": {},
   "source": [
    "5. Write some code to calculate the hypotenuse of a right angled triangle. Get the side lengths from the user.\n",
    "\n",
    "        user --> first side lenth : 6\n",
    "        user --> first side lenth : 8\n",
    "        output --> \"The length of the hypotenuse is 10"
   ]
  },
  {
   "cell_type": "code",
   "execution_count": 4,
   "metadata": {},
   "outputs": [
    {
     "name": "stdout",
     "output_type": "stream",
     "text": [
      "Enter the first side length of the right triangle:3\n",
      "Enter the Second side length of the right triangle:4\n",
      "user --> first side lenth : 3\n",
      "user --> Second side lenth : 4\n",
      "output --> The length of the hypotenuse is 5.0\n"
     ]
    }
   ],
   "source": [
    "First=int(input(\"Enter the first side length of the right triangle:\"))\n",
    "Second=int(input(\"Enter the Second side length of the right triangle:\"))\n",
    "C=((First*First)+(Second*Second))**0.50\n",
    "print(\"user --> first side lenth :\", First)\n",
    "print(\"user --> Second side lenth :\",Second)\n",
    "print(\"output --> The length of the hypotenuse is\",C)"
   ]
  },
  {
   "cell_type": "markdown",
   "metadata": {},
   "source": [
    "## ASSIGNMENT 3\n",
    "Write your solutions and download your code as a .py file. Then upload that file to your GitHub account and share the GitHub link by the button below.\n",
    "\n",
    "\n"
   ]
  },
  {
   "cell_type": "markdown",
   "metadata": {},
   "source": [
    "1.Define two variables as x and y. Assign 1 to x and '1' to y. Then check if two variables have the same value and type.\n"
   ]
  },
  {
   "cell_type": "code",
   "execution_count": 2,
   "metadata": {},
   "outputs": [
    {
     "name": "stdout",
     "output_type": "stream",
     "text": [
      "<class 'int'>\n",
      "<class 'str'>\n"
     ]
    }
   ],
   "source": [
    "x=1\n",
    "y='1'\n",
    "print(type(x))\n",
    "print(type(y))"
   ]
  },
  {
   "cell_type": "markdown",
   "metadata": {},
   "source": [
    "2.Change the type of variable y and make the two variables the same."
   ]
  },
  {
   "cell_type": "code",
   "execution_count": 8,
   "metadata": {},
   "outputs": [
    {
     "name": "stdout",
     "output_type": "stream",
     "text": [
      "<class 'int'>\n",
      "<class 'int'>\n"
     ]
    }
   ],
   "source": [
    "x=1\n",
    "y='1'\n",
    "\n",
    "print(type(x))\n",
    "print(type(int(y)))"
   ]
  },
  {
   "cell_type": "code",
   "execution_count": null,
   "metadata": {},
   "outputs": [],
   "source": []
  }
 ],
 "metadata": {
  "kernelspec": {
   "display_name": "Python 3",
   "language": "python",
   "name": "python3"
  },
  "language_info": {
   "codemirror_mode": {
    "name": "ipython",
    "version": 3
   },
   "file_extension": ".py",
   "mimetype": "text/x-python",
   "name": "python",
   "nbconvert_exporter": "python",
   "pygments_lexer": "ipython3",
   "version": "3.6.7"
  }
 },
 "nbformat": 4,
 "nbformat_minor": 2
}
