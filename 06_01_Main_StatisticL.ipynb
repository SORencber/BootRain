{
  "nbformat": 4,
  "nbformat_minor": 0,
  "metadata": {
    "colab": {
      "name": "06_01_Main_StatisticL.ipynb",
      "provenance": [],
      "collapsed_sections": []
    },
    "kernelspec": {
      "name": "python3",
      "display_name": "Python 3"
    }
  },
  "cells": [
    {
      "cell_type": "markdown",
      "metadata": {
        "id": "p4z5V8459P_B",
        "colab_type": "text"
      },
      "source": [
        "Analyze the central tendency and distribution measurements with the mathematical formula given above and the built-in codes available in python through 3 different data that you will generate using the numpy library !!!"
      ]
    },
    {
      "cell_type": "code",
      "metadata": {
        "id": "4eoEdRZ79NM_",
        "colab_type": "code",
        "colab": {
          "base_uri": "https://localhost:8080/",
          "height": 216
        },
        "outputId": "eef65f71-80ba-462e-dd73-c21ff56a29f9"
      },
      "source": [
        "import pandas as pd\n",
        "import numpy as np\n",
        "import matplotlib.pyplot as plt\n",
        "import statistics\n",
        "data=pd.DataFrame()\n",
        "data[\"a\"]=np.random.normal(100,12,10000)\n",
        "data[\"b\"]=np.random.normal(40,15,10000)\n",
        "data[\"c\"]=np.random.normal(300,60,10000)\n",
        "print(\"a Mean\",data.a.mean())\n",
        "print(\"b Mean\",data.b.mean())\n",
        "print(\"c Mean\",data.c.mean())\n",
        "\n",
        "print(\"a Median\",statistics.median(data.a))\n",
        "print(\"b Median\",statistics.median(data.b))\n",
        "print(\"c Median\",statistics.median(data.c))\n",
        "\n",
        "\n",
        "print(\"a Standart Devation\",data.a.std())\n",
        "print(\"b Standart Devation\",data.b.std())\n",
        "print(\"c Standart Devation\",data.c.std())\n",
        "\n",
        "print(\"a Standartd Error\",np.std(data[\"a\"],ddof=1)/np.sqrt(len(data[\"a\"])))\n",
        "print(\"b Standartd Error\",np.std(data[\"b\"],ddof=1)/np.sqrt(len(data[\"b\"])))\n",
        "print(\"c Standartd Error\",np.std(data[\"c\"],ddof=1)/np.sqrt(len(data[\"c\"])))"
      ],
      "execution_count": 24,
      "outputs": [
        {
          "output_type": "stream",
          "text": [
            "a Mean 99.90886922533637\n",
            "b Mean 39.749617305446236\n",
            "c Mean 299.58744858012466\n",
            "a Median 100.0433022743734\n",
            "b Median 40.03671030546873\n",
            "c Median 299.14222351788\n",
            "a Standart Devation 11.981070570067805\n",
            "b Standart Devation 14.977726489452712\n",
            "c Standart Devation 59.98147744779176\n",
            "a Standartd Error 0.11981070570067805\n",
            "b Standartd Error 0.1497772648945271\n",
            "c Standartd Error 0.5998147744779176\n"
          ],
          "name": "stdout"
        }
      ]
    },
    {
      "cell_type": "code",
      "metadata": {
        "id": "2JPU6-a89mnz",
        "colab_type": "code",
        "colab": {
          "base_uri": "https://localhost:8080/",
          "height": 281
        },
        "outputId": "a4269c29-1224-4f83-89ad-5ad2e16c10b0"
      },
      "source": [
        "data.hist(layout=(3,1),sharex=True)\n",
        "plt.show()"
      ],
      "execution_count": 10,
      "outputs": [
        {
          "output_type": "display_data",
          "data": {
            "image/png": "[encoded data removed]",
            "text/plain": [
              "<Figure size 432x288 with 3 Axes>"
            ]
          },
          "metadata": {
            "tags": [],
            "needs_background": "light"
          }
        }
      ]
    },
    {
      "cell_type": "code",
      "metadata": {
        "id": "iWt7LcA1-LBK",
        "colab_type": "code",
        "colab": {}
      },
      "source": [
        ""
      ],
      "execution_count": null,
      "outputs": []
    }
  ]
}