{
 "cells": [
  {
   "cell_type": "markdown",
   "metadata": {
    "colab_type": "text",
    "id": "rqL7Koa2-91d"
   },
   "source": [
    "In this lesson, we are going to talk about a very crucial topic in any programming language. While programming, we usually work with the changing values of a single thing. For example, say that we want to work with the price of a stock in a stock exchange. Although we are talking about the same thing as the price of the Google stock, the values it can take change frequently. To deal with this, we use **variables**.\n",
    "\n",
    "That being said, we do not necessarily change the value of a variable. Sometimes, we set a particular value to a variable and keep that throughout our code. In this case, the purpose of the variable is to give an easy-to-remember alias (name) to a value.\n",
    "\n",
    "In programming, a **variable** is a value that can change, depending on conditions or information. It allows us to name the values defined anywhere in code and store them for later use. This eliminates the need to redefine or recalculate again and again. We can  use this name/alias in our code at any time. \n",
    "\n",
    "In its simplest form, we can use variables to give an easy to remember the name to a value. For example, if we want to use the famous $\\pi$ value of mathematics, we do not have to remember that its value is `3.14`. Instead, we can define a variable called `pi` and use it when necessary. The name of the variable is whatever we like (e.g. we would have even called the previous variable P if we preferred). However, it is better to choose a name that best describes what the variable is about. This way, it can save us time when referring to it later in the script."
   ]
  },
  {
   "cell_type": "markdown",
   "metadata": {},
   "source": [
    "# 1. Declaring a variable \n",
    "\n",
    "The first thing that we need to do when working with variables is to **define** them. When assigning a value to a variable, we use the equal sign `=`. In mathematics, the equal sign `=` represents an equation, but in Python (as in most programming languages) it assigns the value on the right to the variable specified on the left.\n",
    "\n",
    "Now, let us go through the examples:"
   ]
  },
  {
   "cell_type": "code",
   "execution_count": 1,
   "metadata": {},
   "outputs": [
    {
     "name": "stdout",
     "output_type": "stream",
     "text": [
      "Value : 1\n",
      "Value : 1.5\n",
      "Value : Data really powers everything that we do.\n",
      "Value : True\n"
     ]
    }
   ],
   "source": [
    "# Defining a variable of type 'int'\n",
    "a=1\n",
    "print('Value :', a)\n",
    "\n",
    "# Defining a variable of type 'float'\n",
    "b=1.5\n",
    "print('Value :', b)\n",
    "\n",
    "# Defining a variable of type 'string' (str)\n",
    "c= \"Data really powers everything that we do.\"\n",
    "print('Value :', c)\n",
    "\n",
    "# Defining a variable of type 'boolean' (bool) \n",
    "d= True\n",
    "print('Value :', d)"
   ]
  },
  {
   "cell_type": "markdown",
   "metadata": {
    "colab_type": "text",
    "id": "vNCkOnKG-91k"
   },
   "source": [
    "Now, let us define a variable and make a simple calculation."
   ]
  },
  {
   "cell_type": "code",
   "execution_count": 2,
   "metadata": {},
   "outputs": [
    {
     "name": "stdout",
     "output_type": "stream",
     "text": [
      "circle's circumference : 25.12 cm\n"
     ]
    }
   ],
   "source": [
    "pi = 3.14\n",
    "r = 4\n",
    "\n",
    "print(\"circle's circumference :\", 2 * pi * r, 'cm')"
   ]
  },
  {
   "cell_type": "markdown",
   "metadata": {},
   "source": [
    "We can change the value of a variable by assigning a new value to it:"
   ]
  },
  {
   "cell_type": "code",
   "execution_count": 3,
   "metadata": {},
   "outputs": [
    {
     "name": "stdout",
     "output_type": "stream",
     "text": [
      "Hello, my name is Forrest\n",
      "Hello, my name is John\n"
     ]
    }
   ],
   "source": [
    "name = \"Forrest\"\n",
    "print (\"Hello, my name is\", name)\n",
    "\n",
    "name = \"John\"\n",
    "print (\"Hello, my name is\", name)"
   ]
  },
  {
   "cell_type": "markdown",
   "metadata": {},
   "source": [
    "In Python, we can assign more than one variable \"simultaneously\" on the same line:"
   ]
  },
  {
   "cell_type": "code",
   "execution_count": null,
   "metadata": {},
   "outputs": [],
   "source": [
    "name, surname, age = \"Forest\", \"Gump\", 23\n",
    "a = b = c = 3\n",
    "\n",
    "print(\"Name    : \", name)\n",
    "print(\"Surname : \", surname)\n",
    "print(\"Age     : \", age)\n",
    "\n",
    "print(\"Value of a:\", a)\n",
    "print(\"Value of b:\", b)\n",
    "print(\"Value of c:\", c)"
   ]
  },
  {
   "cell_type": "markdown",
   "metadata": {
    "colab_type": "text",
    "id": "079ncZ84-92E"
   },
   "source": [
    "# 2. Naming variables\n",
    "\n",
    "In Python, we are quite flexible in choosing names for our variables. However, as in every programming language, there are a number of simple rules for naming variables in Python. These can be listed as follows:\n",
    "\n",
    "- Variables must begin with a letter or an underscore (_), not with numbers or arithmetic symbols (+, /, *, etc.).\n",
    "- Variable names can contain letters, numbers, and underscores.\n",
    "- The following 33 words (reserved words) cannot be used as the name of a variable because Python already uses them in its syntax.\n",
    "            False   class      finally   is \t    return\n",
    "            None    continue   for       lambda \ttry\n",
    "            True    def        from      nonlocal   while\n",
    "            and     del        global    not        with\n",
    "            as      elif       if        or         yield\n",
    "            assert  else       import    pass \t \n",
    "            break   except     in        raise \n",
    "            \n",
    "Note that Python is a **case sensitive language** , which means that uppercase letters and lowercase letters treated as something different. So, if we were to declare two variables like `my_variable` and `My_variable`, then these two represent the different things as the second one starts with the capitalized M letter. Therefore,  we may use reserved words as variable names with a little trick, such as AS, OR, Pass, Del, etc...\n",
    "\n",
    "Moreover, we can delete a variable we defined before using the `del` command:"
   ]
  },
  {
   "cell_type": "markdown",
   "metadata": {},
   "source": [
    "Try the code below by removing comment sign `#` "
   ]
  },
  {
   "cell_type": "code",
   "execution_count": null,
   "metadata": {},
   "outputs": [],
   "source": [
    "print = 15\n",
    "3 * print \n",
    "\n",
    "#print(\"Hello world\")\n",
    "\n",
    "del print\n",
    "print(\"Hello world\")"
   ]
  },
  {
   "cell_type": "markdown",
   "metadata": {
    "colab_type": "text",
    "id": "GKz55vAB-92S"
   },
   "source": [
    "A convention in Python is that we usually use lowercase letters for the variables. Although you can prefer to use capital letters in a variable name, it is useful to follow conventions as it increases the readability of your codes. \n",
    "\n",
    "The following cases are some legitimate examples of variable naming:"
   ]
  },
  {
   "cell_type": "code",
   "execution_count": null,
   "metadata": {},
   "outputs": [],
   "source": [
    "name = \"Forrest\"\n",
    "popular_painter = \"Da Vinci\"\n",
    "__pasword__ = \"1234\"\n",
    "job1 = \"Data Scientist\"\n",
    "job2 = \"Software Engineer\"\n",
    "pi = 3.14\n",
    "Marital_status = True"
   ]
  },
  {
   "cell_type": "markdown",
   "metadata": {
    "colab_type": "text",
    "id": "olvmAmcV-92c"
   },
   "source": [
    "If we improperly define the variable name, we get `SyntaxError`. In that case, we need to change the variable's name to something appropriate."
   ]
  },
  {
   "cell_type": "code",
   "execution_count": null,
   "metadata": {},
   "outputs": [],
   "source": [
    "1st_name = \"John\"  # Variable name should not start with numbers\n",
    "print(1st_name)"
   ]
  },
  {
   "cell_type": "markdown",
   "metadata": {},
   "source": [
    "In the end, we have learned how to declare variables, in the next lesson, we will see another crucial topic in programming, which is the data types."
   ]
  },
  {
   "cell_type": "markdown",
   "metadata": {},
   "source": [
    "# Assignment"
   ]
  },
  {
   "cell_type": "markdown",
   "metadata": {},
   "source": [
    "Write your solutions and download your code as a .py file. Then upload that file to your GitHub account and share the GitHub link by the button below.\n",
    "\n",
    "1. Define two variables as `x` and `y`. Assign `1` to `x` and `'1'` to `y`. Then check if two variables have the same value and type.\n",
    "\n",
    "2. Change the type of variable `y` and make the two variables the same."
   ]
  }
 ],
 "metadata": {
  "colab": {
   "collapsed_sections": [],
   "name": "2.PythonBasics.ipynb",
   "provenance": []
  },
  "kernelspec": {
   "display_name": "Python (3.7)",
   "language": "python",
   "name": "gandelab"
  },
  "language_info": {
   "codemirror_mode": {
    "name": "ipython",
    "version": 3
   },
   "file_extension": ".py",
   "mimetype": "text/x-python",
   "name": "python",
   "nbconvert_exporter": "python",
   "pygments_lexer": "ipython3",
   "version": "3.7.3"
  },
  "latex_envs": {
   "LaTeX_envs_menu_present": true,
   "autoclose": false,
   "autocomplete": true,
   "bibliofile": "biblio.bib",
   "cite_by": "apalike",
   "current_citInitial": 1,
   "eqLabelWithNumbers": true,
   "eqNumInitial": 1,
   "hotkeys": {
    "equation": "Ctrl-E",
    "itemize": "Ctrl-I"
   },
   "labels_anchors": false,
   "latex_user_defs": false,
   "report_style_numbering": false,
   "user_envs_cfg": false
  },
  "varInspector": {
   "cols": {
    "lenName": 16,
    "lenType": 16,
    "lenVar": 40
   },
   "kernels_config": {
    "python": {
     "delete_cmd_postfix": "",
     "delete_cmd_prefix": "del ",
     "library": "var_list.py",
     "varRefreshCmd": "print(var_dic_list())"
    },
    "r": {
     "delete_cmd_postfix": ") ",
     "delete_cmd_prefix": "rm(",
     "library": "var_list.r",
     "varRefreshCmd": "cat(var_dic_list()) "
    }
   },
   "types_to_exclude": [
    "module",
    "function",
    "builtin_function_or_method",
    "instance",
    "_Feature"
   ],
   "window_display": false
  }
 },
 "nbformat": 4,
 "nbformat_minor": 4
}
